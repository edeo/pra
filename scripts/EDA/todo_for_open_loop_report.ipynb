{
 "cells": [
  {
   "cell_type": "markdown",
   "metadata": {},
   "source": [
    "folowing the advice on i hate notebooks only move forward.\n",
    "\n",
    "1. current inventory - make a table\n",
    "2.  pending - make a table\n",
    "3. make a list of all omb control numbers in inventory\n",
    "4. make a list of all omb control numbers in pending\n",
    "5. combine those lists\n",
    "6. search the federal register for all those omb control numbers \n",
    "7.  save those to a list\n",
    "8. create a table of all the notices\n",
    "9. search for all the new notices for dol going back a year\n",
    "10. use the inventory to make sure that collections that were new and approved are all in that list of notices\n",
    "11. use the pending to make sure the collections that are new and submitted are in that list.\n",
    "\n",
    "finding open loops:\n",
    "\n",
    "12. what is :\n",
    "            1. in inventory\n",
    "            2. expiring in the next year.\n",
    "            3. does not have a 60 day notice published within the last 9 months.\n",
    "  \n",
    "13. what is :\n",
    "            1. in inventory\n",
    "            2. expiring in the next year.\n",
    "            3. has a 60 day notice published within the last 9 months.\n",
    "            4. has not been submitted to oira\n",
    "            \n",
    "14. What are new collections that have had 60 day notices published in the last year that have not been submitted to oira?\n",
    "\n",
    "how can we do this on a daily basis? ( automated / semi automated)\n",
    "\n",
    "how can we add data to find when the agency sends the package to ocio? to show the real cycle time?\n",
    "\n",
    "notes \n",
    "\n",
    "try an find the last published notice date for all the omb control numbers in inventory"
   ]
  },
  {
   "cell_type": "markdown",
   "metadata": {},
   "source": []
  },
  {
   "cell_type": "code",
   "execution_count": 1,
   "metadata": {},
   "outputs": [],
   "source": [
    "import pycurl\n",
    "import requests\n",
    "import os \n",
    "from lxml import etree\n",
    "import pandas as pd \n",
    "import datetime\n",
    "import requests\n",
    "from bs4 import BeautifulSoup\n",
    "import json\n",
    "import pycurl\n",
    "import requests\n",
    "import os \n",
    "from lxml import etree\n",
    "import pandas as pd \n",
    "import datetime\n",
    "import requests\n",
    "from bs4 import BeautifulSoup\n",
    "import json\n",
    "import numpy as np\n",
    "import shutil\n",
    "\n",
    "\n",
    "dol_agency_codes = [\n",
    "1220,\n",
    "1225,\n",
    "1205,\n",
    "1219,\n",
    "1218,\n",
    "1250,\n",
    "1245,\n",
    "1240,\n",
    "1293,\n",
    "1290,\n",
    "1235,\n",
    "1210]"
   ]
  },
  {
   "cell_type": "code",
   "execution_count": 2,
   "metadata": {},
   "outputs": [],
   "source": [
    "def get_xpath_strings(dol_agency_codes):       \n",
    "    xpath_strings = []\n",
    "    xpath_string_prefix = '//InformationCollectionRequest[.//AgencyCode/text()[. = \"'\n",
    "    xpath_string_suffix = '\"]]'\n",
    "    \n",
    "    for number in dol_agency_codes:\n",
    "        new_string = xpath_string_prefix+str(number)+xpath_string_suffix\n",
    "        xpath_strings.append(new_string) \n",
    "    \n",
    "    return(xpath_strings)\n",
    "    \n",
    "\n",
    "def inventory_to_list(file,dol_agency_codes):\n",
    "    xpath_strings= get_xpath_strings(dol_agency_codes)\n",
    "    \n",
    "    tree = etree.parse(file)\n",
    "    root = tree.getroot()\n",
    "    all_results = []\n",
    "\n",
    "    for string in xpath_strings:\n",
    "      results = []\n",
    "      req = root.xpath(string)\n",
    "      for request in req:       \n",
    "        try:\n",
    "         results.append({\n",
    "           \"omb_control_number\": request.xpath('./OMBControlNumber//text()')[0],\n",
    "           \"icr_reference_number\": request.xpath('./ICRReferenceNumber//text()')[0],\n",
    "           \"Title\": request.xpath('./Title//text()')[0],\n",
    "           #\"Abstract\": request.xpath('./Abstract//text()')[0],\n",
    "           \"AgencyCode\": str(request.xpath('./AgencyCode//text()')[0]).strip(),\n",
    "           \"ICRTypeCode\": str(request.xpath('./ICRTypeCode//text()')[0]).strip(),\n",
    "           \"expiration_date\": str(request.xpath('./Expiration/ExpirationDate//text()')[0]).strip(),\n",
    "           \"ICR_status\": str(request.xpath('./ICRStatus//text()')[0]).strip()})\n",
    "        except:\n",
    "            results.append({\n",
    "              \"omb_control_number\": request.xpath('./OMBControlNumber//text()')[0],\n",
    "              \"icr_reference_number\": request.xpath('./ICRReferenceNumber//text()')[0],\n",
    "              \"Title\": request.xpath('./Title//text()')[0],\n",
    "              #\"Abstract\": request.xpath('./Abstract//text()')[0],\n",
    "              \"AgencyCode\": str(request.xpath('./AgencyCode//text()')[0]).strip(),\n",
    "              \"ICRTypeCode\": str(request.xpath('./ICRTypeCode//text()')[0]).strip(),\n",
    "              \"expiration_date\": str(request.xpath('./Expiration/ExpirationDate//text()')[0]).strip(),\n",
    "              \"ICR_status\": \"None\"})\n",
    "            \n",
    "      all_results.append(results) \n",
    "    return(all_results)\n",
    "    \n",
    "    \n",
    "    \n",
    "def inventory_list_to_table(file,all_results):    \n",
    "    dol_inventory_row_list = []\n",
    "    \n",
    "    for list in all_results:\n",
    "      for row in list:\n",
    "        dol_inventory_row_list.append(row)\n",
    "    \n",
    "    dol_inventory_table = pd.DataFrame(dol_inventory_row_list)\n",
    "    dol_inventory_table['file_date'] = file\n",
    "    return(dol_inventory_table)    \n",
    "\n",
    "\n",
    "\n",
    "\n",
    "def create_pending_df_from_xml(file):\n",
    "    tree = etree.parse(file)\n",
    "    root = tree.getroot()\n",
    "    req = root.xpath('//InformationCollectionRequest')\n",
    "    results = []\n",
    "    for request in req:\n",
    "        try:\n",
    "            results.append({\n",
    "                \"omb_control_number\": request.xpath('./OMBControlNumber//text()')[0],\n",
    "                \"icr_reference_number\": request.xpath('./ICRReferenceNumber//text()')[0],\n",
    "                \"AgencyCode\": str(request.xpath('./AgencyCode//text()')[0]).strip(),\n",
    "                \"Title\": request.xpath('./Title//text()')[0],\n",
    "                \"submission_date\": str(request.xpath('./SubmissionDate/Date//text()')[0]).strip()})\n",
    "        except:\n",
    "            pass\n",
    "   \n",
    "    df = pd.DataFrame(results)\n",
    "    df['Agency'] = df['AgencyCode'].str[:2]\n",
    "    return(df)\n",
    "\n",
    "\n",
    "def dol_pending(pending_df):\n",
    "    dol_pending = pending_df[pending_df['Agency']=='12']\n",
    "    return(dol_pending)\n",
    "\n",
    "\n",
    "\n"
   ]
  },
  {
   "cell_type": "markdown",
   "metadata": {},
   "source": [
    "current inventory - make a table"
   ]
  },
  {
   "cell_type": "code",
   "execution_count": 3,
   "metadata": {},
   "outputs": [],
   "source": [
    "# first get the file \n",
    "os.chdir('/home/jupyter-ed/projects/pra/data/inventory')"
   ]
  },
  {
   "cell_type": "code",
   "execution_count": 4,
   "metadata": {},
   "outputs": [
    {
     "data": {
      "text/plain": [
       "['2020-07-01_inventory.xml',\n",
       " 'new_in_pending_today_table.csv',\n",
       " '2020-07-06_inventory.xml',\n",
       " '2020-07-10_inventory.xml',\n",
       " 'pending.csv',\n",
       " '.ipynb_checkpoints',\n",
       " '2020-06-23_inventory.xml',\n",
       " '2020-07-02_inventory.xml',\n",
       " '2020-06-25_inventory.xml',\n",
       " '2020-06-28_inventory.xml',\n",
       " '2020-07-18_inventory.xml',\n",
       " '2020-07-29_inventory.xml',\n",
       " '2020-07-16_inventory.xml',\n",
       " '2020-07-26_inventory.xml',\n",
       " '2020-07-14_inventory.xml',\n",
       " '2020-07-15_inventory.xml',\n",
       " '2020-07-11_inventory.xml',\n",
       " '2020-07-28_inventory.xml',\n",
       " '2020-07-24_inventory.xml',\n",
       " '2020-07-17_inventory.xml',\n",
       " '2020-07-12_inventory.xml',\n",
       " '2020-07-08_inventory.xml',\n",
       " '2020-07-25_inventory.xml',\n",
       " '2020-07-13_inventory.xml',\n",
       " '2020-06-29_inventory.xml',\n",
       " '2020-07-20_inventory.xml',\n",
       " '2020-07-09_inventory.xml',\n",
       " '2020-07-30_inventory.xml',\n",
       " '2020-06-27_inventory.xml',\n",
       " '2020-07-21_inventory.xml',\n",
       " '2020-07-23_inventory.xml',\n",
       " '2020-06-24_inventory.xml',\n",
       " '2020-07-05_inventory.xml',\n",
       " '2020-07-19_inventory.xml',\n",
       " '2020-07-22_inventory.xml',\n",
       " '2020-07-04_inventory.xml',\n",
       " 'gone_from_pending_today_table.csv',\n",
       " '2020-07-27_inventory.xml']"
      ]
     },
     "execution_count": 4,
     "metadata": {},
     "output_type": "execute_result"
    }
   ],
   "source": [
    "os.listdir()"
   ]
  },
  {
   "cell_type": "code",
   "execution_count": 5,
   "metadata": {},
   "outputs": [],
   "source": [
    "inventory_file = '2020-07-27_inventory.xml'"
   ]
  },
  {
   "cell_type": "code",
   "execution_count": 6,
   "metadata": {},
   "outputs": [],
   "source": [
    "xpath_strings = get_xpath_strings(dol_agency_codes)"
   ]
  },
  {
   "cell_type": "code",
   "execution_count": 7,
   "metadata": {},
   "outputs": [],
   "source": [
    "inventory_list =inventory_to_list(inventory_file,dol_agency_codes)"
   ]
  },
  {
   "cell_type": "code",
   "execution_count": 8,
   "metadata": {},
   "outputs": [],
   "source": [
    "inventory_df = inventory_list_to_table(inventory_file,inventory_list)"
   ]
  },
  {
   "cell_type": "markdown",
   "metadata": {},
   "source": [
    "pending - make a table"
   ]
  },
  {
   "cell_type": "code",
   "execution_count": 9,
   "metadata": {},
   "outputs": [],
   "source": [
    "# first get the file \n",
    "os.chdir('/home/jupyter-ed/projects/pra/data/pending')"
   ]
  },
  {
   "cell_type": "code",
   "execution_count": 10,
   "metadata": {},
   "outputs": [
    {
     "data": {
      "text/plain": [
       "['2020-07-08_pending.xml',\n",
       " '2020-07-14_pending.xml',\n",
       " '2020-07-12_pending.xml',\n",
       " '2020-07-30_pending.xml',\n",
       " '2020-07-13_pending.xml',\n",
       " '.ipynb_checkpoints',\n",
       " '2020-07-29_pending.xml',\n",
       " '2020-07-04_pending.xml',\n",
       " '2020-07-09_pending.xml',\n",
       " '2020-07-23_pending.xml',\n",
       " '2020-07-05_pending.xml',\n",
       " '2020-07-11_pending.xml',\n",
       " '2020-07-16_pending.xml',\n",
       " '2020-07-15_pending.xml',\n",
       " '2020-06-25_pending.xml',\n",
       " '2020-06-24_pending.xml',\n",
       " '2020-06-28_pending.xml',\n",
       " '2020-07-02_pending.xml',\n",
       " '2020-07-24_pending.xml',\n",
       " '2020-07-22_pending.xml',\n",
       " '2020-07-17_pending.xml',\n",
       " '2020-06-29_pending.xml',\n",
       " '2020-07-06_pending.xml',\n",
       " '2020-07-21_pending.xml',\n",
       " '2020-06-27_pending.xml',\n",
       " '2020-07-26_pending.xml',\n",
       " '2020-07-28_pending.xml',\n",
       " '2020-07-27_pending.xml',\n",
       " '2020-07-01_pending.xml',\n",
       " '2020-07-18_pending.xml',\n",
       " '2020-07-19_pending.xml',\n",
       " '2020-07-20_pending.xml',\n",
       " '2020-07-10_pending.xml',\n",
       " '2020-07-25_pending.xml',\n",
       " '2020-06-23_pending.xml']"
      ]
     },
     "execution_count": 10,
     "metadata": {},
     "output_type": "execute_result"
    }
   ],
   "source": [
    "os.listdir()"
   ]
  },
  {
   "cell_type": "code",
   "execution_count": 11,
   "metadata": {},
   "outputs": [],
   "source": [
    "pending_file ='2020-07-27_pending.xml'"
   ]
  },
  {
   "cell_type": "code",
   "execution_count": 12,
   "metadata": {},
   "outputs": [],
   "source": [
    "pending_df_all = create_pending_df_from_xml(pending_file)\n"
   ]
  },
  {
   "cell_type": "code",
   "execution_count": 13,
   "metadata": {},
   "outputs": [],
   "source": [
    "pending_df_dol = dol_pending(pending_df_all)\n"
   ]
  },
  {
   "cell_type": "code",
   "execution_count": 14,
   "metadata": {},
   "outputs": [
    {
     "data": {
      "text/html": [
       "<div>\n",
       "<style scoped>\n",
       "    .dataframe tbody tr th:only-of-type {\n",
       "        vertical-align: middle;\n",
       "    }\n",
       "\n",
       "    .dataframe tbody tr th {\n",
       "        vertical-align: top;\n",
       "    }\n",
       "\n",
       "    .dataframe thead th {\n",
       "        text-align: right;\n",
       "    }\n",
       "</style>\n",
       "<table border=\"1\" class=\"dataframe\">\n",
       "  <thead>\n",
       "    <tr style=\"text-align: right;\">\n",
       "      <th></th>\n",
       "      <th>omb_control_number</th>\n",
       "      <th>icr_reference_number</th>\n",
       "      <th>AgencyCode</th>\n",
       "      <th>Title</th>\n",
       "      <th>submission_date</th>\n",
       "      <th>Agency</th>\n",
       "    </tr>\n",
       "  </thead>\n",
       "  <tbody>\n",
       "    <tr>\n",
       "      <th>434</th>\n",
       "      <td>1220-0163</td>\n",
       "      <td>202006-1220-004</td>\n",
       "      <td>1220</td>\n",
       "      <td>Consumer Price Index Housing Survey</td>\n",
       "      <td>2020-06-29-04:00</td>\n",
       "      <td>12</td>\n",
       "    </tr>\n",
       "    <tr>\n",
       "      <th>435</th>\n",
       "      <td>1220-0109</td>\n",
       "      <td>202004-1220-003</td>\n",
       "      <td>1220</td>\n",
       "      <td>National Longitudinal Survey of Youth 1979</td>\n",
       "      <td>2020-06-17-04:00</td>\n",
       "      <td>12</td>\n",
       "    </tr>\n",
       "    <tr>\n",
       "      <th>436</th>\n",
       "      <td>1220-0039</td>\n",
       "      <td>202002-1220-001</td>\n",
       "      <td>1220</td>\n",
       "      <td>Consumer Price Index Commodities and Services ...</td>\n",
       "      <td>2020-07-21-04:00</td>\n",
       "      <td>12</td>\n",
       "    </tr>\n",
       "    <tr>\n",
       "      <th>437</th>\n",
       "      <td>1210-0132</td>\n",
       "      <td>202003-1210-007</td>\n",
       "      <td>1210</td>\n",
       "      <td>Default Investment Alternatives under Particip...</td>\n",
       "      <td>2020-05-27-04:00</td>\n",
       "      <td>12</td>\n",
       "    </tr>\n",
       "    <tr>\n",
       "      <th>438</th>\n",
       "      <td>1210-0090</td>\n",
       "      <td>202003-1210-006</td>\n",
       "      <td>1210</td>\n",
       "      <td>Disclosures for Participant Directed Individua...</td>\n",
       "      <td>2020-05-27-04:00</td>\n",
       "      <td>12</td>\n",
       "    </tr>\n",
       "    <tr>\n",
       "      <th>439</th>\n",
       "      <td>1210-0039</td>\n",
       "      <td>202003-1210-004</td>\n",
       "      <td>1210</td>\n",
       "      <td>Summary Plan Description Requirements Under th...</td>\n",
       "      <td>2020-05-27-04:00</td>\n",
       "      <td>12</td>\n",
       "    </tr>\n",
       "    <tr>\n",
       "      <th>440</th>\n",
       "      <td>1210-0126</td>\n",
       "      <td>202003-1210-003</td>\n",
       "      <td>1210</td>\n",
       "      <td>Defined Benefit Plan Annual Funding Notice</td>\n",
       "      <td>2020-05-27-04:00</td>\n",
       "      <td>12</td>\n",
       "    </tr>\n",
       "    <tr>\n",
       "      <th>441</th>\n",
       "      <td>1210-0121</td>\n",
       "      <td>202003-1210-002</td>\n",
       "      <td>1210</td>\n",
       "      <td>Consent to Receive Employee Benefit Plan Discl...</td>\n",
       "      <td>2020-05-27-04:00</td>\n",
       "      <td>12</td>\n",
       "    </tr>\n",
       "    <tr>\n",
       "      <th>442</th>\n",
       "      <td>1205-0528</td>\n",
       "      <td>202004-1205-005</td>\n",
       "      <td>1205</td>\n",
       "      <td>American Apprenticeship Initiative Grants</td>\n",
       "      <td>2020-06-24-04:00</td>\n",
       "      <td>12</td>\n",
       "    </tr>\n",
       "    <tr>\n",
       "      <th>443</th>\n",
       "      <td>1205-0134</td>\n",
       "      <td>201912-1205-004</td>\n",
       "      <td>1205</td>\n",
       "      <td>Agricultural Recruitment System Forms Affectin...</td>\n",
       "      <td>2020-05-04-04:00</td>\n",
       "      <td>12</td>\n",
       "    </tr>\n",
       "    <tr>\n",
       "      <th>444</th>\n",
       "      <td>1219-0143</td>\n",
       "      <td>202003-1219-004</td>\n",
       "      <td>1219</td>\n",
       "      <td>Qualification/Certification Program Request fo...</td>\n",
       "      <td>2020-07-17-04:00</td>\n",
       "      <td>12</td>\n",
       "    </tr>\n",
       "    <tr>\n",
       "      <th>445</th>\n",
       "      <td>1219-0152</td>\n",
       "      <td>202003-1219-002</td>\n",
       "      <td>1219</td>\n",
       "      <td>Periodic Medical Surveillance Examinations for...</td>\n",
       "      <td>2020-07-17-04:00</td>\n",
       "      <td>12</td>\n",
       "    </tr>\n",
       "    <tr>\n",
       "      <th>446</th>\n",
       "      <td>1219-0048</td>\n",
       "      <td>202003-1219-001</td>\n",
       "      <td>1219</td>\n",
       "      <td>Respirator Program Records</td>\n",
       "      <td>2020-07-17-04:00</td>\n",
       "      <td>12</td>\n",
       "    </tr>\n",
       "    <tr>\n",
       "      <th>447</th>\n",
       "      <td>1219-0078</td>\n",
       "      <td>202002-1219-006</td>\n",
       "      <td>1219</td>\n",
       "      <td>Mine Rescue Teams, Arrangements for Emergency ...</td>\n",
       "      <td>2020-02-28-05:00</td>\n",
       "      <td>12</td>\n",
       "    </tr>\n",
       "    <tr>\n",
       "      <th>448</th>\n",
       "      <td>1219-0003</td>\n",
       "      <td>202002-1219-005</td>\n",
       "      <td>1219</td>\n",
       "      <td>Radiation Sampling and Exposure Records</td>\n",
       "      <td>2020-06-23-04:00</td>\n",
       "      <td>12</td>\n",
       "    </tr>\n",
       "    <tr>\n",
       "      <th>449</th>\n",
       "      <td>1219-0024</td>\n",
       "      <td>202002-1219-004</td>\n",
       "      <td>1219</td>\n",
       "      <td>Application for Waiver of Surface Sanitary Fac...</td>\n",
       "      <td>2020-03-19-04:00</td>\n",
       "      <td>12</td>\n",
       "    </tr>\n",
       "    <tr>\n",
       "      <th>450</th>\n",
       "      <td>1219-0089</td>\n",
       "      <td>202001-1219-001</td>\n",
       "      <td>1219</td>\n",
       "      <td>Safety Defects; Examination, Correction, and R...</td>\n",
       "      <td>2020-06-23-04:00</td>\n",
       "      <td>12</td>\n",
       "    </tr>\n",
       "    <tr>\n",
       "      <th>451</th>\n",
       "      <td>1219-0124</td>\n",
       "      <td>201912-1219-001</td>\n",
       "      <td>1219</td>\n",
       "      <td>Health Standards for Diesel Particulate Matter...</td>\n",
       "      <td>2020-04-09-04:00</td>\n",
       "      <td>12</td>\n",
       "    </tr>\n",
       "    <tr>\n",
       "      <th>452</th>\n",
       "      <td>1219-0138</td>\n",
       "      <td>201910-1219-004</td>\n",
       "      <td>1219</td>\n",
       "      <td>Safety Standards for Underground Coal Mine Ven...</td>\n",
       "      <td>2020-01-22-05:00</td>\n",
       "      <td>12</td>\n",
       "    </tr>\n",
       "    <tr>\n",
       "      <th>453</th>\n",
       "      <td>1218-0267</td>\n",
       "      <td>202006-1218-006</td>\n",
       "      <td>1218</td>\n",
       "      <td>Beryllium Standard for General Industry (29 CF...</td>\n",
       "      <td>2020-07-22-04:00</td>\n",
       "      <td>12</td>\n",
       "    </tr>\n",
       "    <tr>\n",
       "      <th>454</th>\n",
       "      <td>1218-0143</td>\n",
       "      <td>202005-1218-001</td>\n",
       "      <td>1218</td>\n",
       "      <td>Presence Sensing Device Initiation (PSDI) Stan...</td>\n",
       "      <td>2020-06-18-04:00</td>\n",
       "      <td>12</td>\n",
       "    </tr>\n",
       "    <tr>\n",
       "      <th>455</th>\n",
       "      <td>1218-0197</td>\n",
       "      <td>202003-1218-009</td>\n",
       "      <td>1218</td>\n",
       "      <td>Construction Fall Protection Systems Criteria,...</td>\n",
       "      <td>2020-05-04-04:00</td>\n",
       "      <td>12</td>\n",
       "    </tr>\n",
       "    <tr>\n",
       "      <th>456</th>\n",
       "      <td>1218-0255</td>\n",
       "      <td>202003-1218-008</td>\n",
       "      <td>1218</td>\n",
       "      <td>Occupational Safety and Health Administration ...</td>\n",
       "      <td>2020-04-15-04:00</td>\n",
       "      <td>12</td>\n",
       "    </tr>\n",
       "    <tr>\n",
       "      <th>457</th>\n",
       "      <td>1218-0145</td>\n",
       "      <td>202003-1218-007</td>\n",
       "      <td>1218</td>\n",
       "      <td>Formaldehyde Standard (29 CFR 1910.1048)</td>\n",
       "      <td>2020-04-28-04:00</td>\n",
       "      <td>12</td>\n",
       "    </tr>\n",
       "    <tr>\n",
       "      <th>458</th>\n",
       "      <td>1218-0221</td>\n",
       "      <td>202003-1218-005</td>\n",
       "      <td>1218</td>\n",
       "      <td>Crawler, Locomotive, and Truck Cranes Standard...</td>\n",
       "      <td>2020-04-29-04:00</td>\n",
       "      <td>12</td>\n",
       "    </tr>\n",
       "    <tr>\n",
       "      <th>459</th>\n",
       "      <td>1218-0216</td>\n",
       "      <td>202003-1218-004</td>\n",
       "      <td>1218</td>\n",
       "      <td>Aerial Lifts Standard (29 CFR 1926.453)</td>\n",
       "      <td>2020-04-29-04:00</td>\n",
       "      <td>12</td>\n",
       "    </tr>\n",
       "    <tr>\n",
       "      <th>460</th>\n",
       "      <td>1218-0202</td>\n",
       "      <td>201912-1218-010</td>\n",
       "      <td>1218</td>\n",
       "      <td>Hazardous Waste Operations and Emergency Respo...</td>\n",
       "      <td>2020-01-29-05:00</td>\n",
       "      <td>12</td>\n",
       "    </tr>\n",
       "    <tr>\n",
       "      <th>461</th>\n",
       "      <td>1218-0065</td>\n",
       "      <td>201911-1218-005</td>\n",
       "      <td>1218</td>\n",
       "      <td>Access to Employee Exposure and Medical Record...</td>\n",
       "      <td>2020-04-15-04:00</td>\n",
       "      <td>12</td>\n",
       "    </tr>\n",
       "    <tr>\n",
       "      <th>462</th>\n",
       "      <td>1218-0236</td>\n",
       "      <td>201911-1218-004</td>\n",
       "      <td>1218</td>\n",
       "      <td>Regulations Containing Procedures for Handling...</td>\n",
       "      <td>2020-03-27-04:00</td>\n",
       "      <td>12</td>\n",
       "    </tr>\n",
       "    <tr>\n",
       "      <th>463</th>\n",
       "      <td>1218-0185</td>\n",
       "      <td>201911-1218-003</td>\n",
       "      <td>1218</td>\n",
       "      <td>Cadmium in General Industry Standard (29 CFR 1...</td>\n",
       "      <td>2020-04-01-04:00</td>\n",
       "      <td>12</td>\n",
       "    </tr>\n",
       "    <tr>\n",
       "      <th>464</th>\n",
       "      <td>1218-0205</td>\n",
       "      <td>201911-1218-001</td>\n",
       "      <td>1218</td>\n",
       "      <td>Personal Protective Equipment for General Indu...</td>\n",
       "      <td>2020-02-25-05:00</td>\n",
       "      <td>12</td>\n",
       "    </tr>\n",
       "    <tr>\n",
       "      <th>465</th>\n",
       "      <td>1230-0014</td>\n",
       "      <td>202006-1230-001</td>\n",
       "      <td>1230</td>\n",
       "      <td>Retaining Employment and Talent after Injury/I...</td>\n",
       "      <td>2020-07-17-04:00</td>\n",
       "      <td>12</td>\n",
       "    </tr>\n",
       "    <tr>\n",
       "      <th>466</th>\n",
       "      <td>1240-0035</td>\n",
       "      <td>202003-1240-001</td>\n",
       "      <td>1240</td>\n",
       "      <td>Description of Coal Mine Work and Other Employ...</td>\n",
       "      <td>2020-06-09-04:00</td>\n",
       "      <td>12</td>\n",
       "    </tr>\n",
       "    <tr>\n",
       "      <th>467</th>\n",
       "      <td>1240-0033</td>\n",
       "      <td>202002-1240-005</td>\n",
       "      <td>1240</td>\n",
       "      <td>Coal Mine Operator Response to Schedule for Su...</td>\n",
       "      <td>2020-06-16-04:00</td>\n",
       "      <td>12</td>\n",
       "    </tr>\n",
       "    <tr>\n",
       "      <th>468</th>\n",
       "      <td>1240-0003</td>\n",
       "      <td>202002-1240-002</td>\n",
       "      <td>1240</td>\n",
       "      <td>Employer's First Report of Injury or Occupatio...</td>\n",
       "      <td>2020-06-25-04:00</td>\n",
       "      <td>12</td>\n",
       "    </tr>\n",
       "    <tr>\n",
       "      <th>469</th>\n",
       "      <td>1240-0026</td>\n",
       "      <td>202001-1240-003</td>\n",
       "      <td>1240</td>\n",
       "      <td>Application for Continuation of Death Benefit ...</td>\n",
       "      <td>2020-05-27-04:00</td>\n",
       "      <td>12</td>\n",
       "    </tr>\n",
       "    <tr>\n",
       "      <th>470</th>\n",
       "      <td>1240-0014</td>\n",
       "      <td>202001-1240-002</td>\n",
       "      <td>1240</td>\n",
       "      <td>Administration of the Longshore and Harbor Wor...</td>\n",
       "      <td>2020-05-27-04:00</td>\n",
       "      <td>12</td>\n",
       "    </tr>\n",
       "    <tr>\n",
       "      <th>471</th>\n",
       "      <td>1240-0011</td>\n",
       "      <td>202001-1240-001</td>\n",
       "      <td>1240</td>\n",
       "      <td>Application for Approval of a Representative's...</td>\n",
       "      <td>2020-05-12-04:00</td>\n",
       "      <td>12</td>\n",
       "    </tr>\n",
       "    <tr>\n",
       "      <th>472</th>\n",
       "      <td>1240-0022</td>\n",
       "      <td>201911-1240-006</td>\n",
       "      <td>1240</td>\n",
       "      <td>Notice of Law Enforcement Officer's Injury or ...</td>\n",
       "      <td>2020-03-30-04:00</td>\n",
       "      <td>12</td>\n",
       "    </tr>\n",
       "    <tr>\n",
       "      <th>473</th>\n",
       "      <td>1240-0027</td>\n",
       "      <td>201911-1240-004</td>\n",
       "      <td>1240</td>\n",
       "      <td>Survivor's Form for Benefits Under the Black L...</td>\n",
       "      <td>2020-03-27-04:00</td>\n",
       "      <td>12</td>\n",
       "    </tr>\n",
       "    <tr>\n",
       "      <th>474</th>\n",
       "      <td>1240-0048</td>\n",
       "      <td>201910-1240-005</td>\n",
       "      <td>1240</td>\n",
       "      <td>Notice of Issuance of Insurance Policy</td>\n",
       "      <td>2020-02-06-05:00</td>\n",
       "      <td>12</td>\n",
       "    </tr>\n",
       "    <tr>\n",
       "      <th>475</th>\n",
       "      <td>1240-0055</td>\n",
       "      <td>201906-1240-001</td>\n",
       "      <td>1240</td>\n",
       "      <td>Authorization Request Forms/Certification/Lett...</td>\n",
       "      <td>2020-02-12-05:00</td>\n",
       "      <td>12</td>\n",
       "    </tr>\n",
       "    <tr>\n",
       "      <th>476</th>\n",
       "      <td>1235-0001</td>\n",
       "      <td>202006-1235-001</td>\n",
       "      <td>1235</td>\n",
       "      <td>Fair Labor Standards Act Special Employment Pr...</td>\n",
       "      <td>2020-07-08-04:00</td>\n",
       "      <td>12</td>\n",
       "    </tr>\n",
       "    <tr>\n",
       "      <th>477</th>\n",
       "      <td>1235-0016</td>\n",
       "      <td>202001-1235-009</td>\n",
       "      <td>1235</td>\n",
       "      <td>Application for a Farm Labor Contractor or Far...</td>\n",
       "      <td>2020-03-26-04:00</td>\n",
       "      <td>12</td>\n",
       "    </tr>\n",
       "    <tr>\n",
       "      <th>478</th>\n",
       "      <td>1235-0015</td>\n",
       "      <td>202001-1235-008</td>\n",
       "      <td>1235</td>\n",
       "      <td>Report of Construction Contractor's Wage Rates</td>\n",
       "      <td>2020-05-28-04:00</td>\n",
       "      <td>12</td>\n",
       "    </tr>\n",
       "    <tr>\n",
       "      <th>758</th>\n",
       "      <td>1212-0009</td>\n",
       "      <td>202007-1212-001</td>\n",
       "      <td>1212</td>\n",
       "      <td>Payment of Premiums (29 CFR part 4007)</td>\n",
       "      <td>2020-07-21-04:00</td>\n",
       "      <td>12</td>\n",
       "    </tr>\n",
       "    <tr>\n",
       "      <th>759</th>\n",
       "      <td>1212-0017</td>\n",
       "      <td>202006-1212-001</td>\n",
       "      <td>1212</td>\n",
       "      <td>Liability for Termination of Single-Employer P...</td>\n",
       "      <td>2020-06-10-04:00</td>\n",
       "      <td>12</td>\n",
       "    </tr>\n",
       "  </tbody>\n",
       "</table>\n",
       "</div>"
      ],
      "text/plain": [
       "    omb_control_number icr_reference_number AgencyCode  \\\n",
       "434          1220-0163      202006-1220-004       1220   \n",
       "435          1220-0109      202004-1220-003       1220   \n",
       "436          1220-0039      202002-1220-001       1220   \n",
       "437          1210-0132      202003-1210-007       1210   \n",
       "438          1210-0090      202003-1210-006       1210   \n",
       "439          1210-0039      202003-1210-004       1210   \n",
       "440          1210-0126      202003-1210-003       1210   \n",
       "441          1210-0121      202003-1210-002       1210   \n",
       "442          1205-0528      202004-1205-005       1205   \n",
       "443          1205-0134      201912-1205-004       1205   \n",
       "444          1219-0143      202003-1219-004       1219   \n",
       "445          1219-0152      202003-1219-002       1219   \n",
       "446          1219-0048      202003-1219-001       1219   \n",
       "447          1219-0078      202002-1219-006       1219   \n",
       "448          1219-0003      202002-1219-005       1219   \n",
       "449          1219-0024      202002-1219-004       1219   \n",
       "450          1219-0089      202001-1219-001       1219   \n",
       "451          1219-0124      201912-1219-001       1219   \n",
       "452          1219-0138      201910-1219-004       1219   \n",
       "453          1218-0267      202006-1218-006       1218   \n",
       "454          1218-0143      202005-1218-001       1218   \n",
       "455          1218-0197      202003-1218-009       1218   \n",
       "456          1218-0255      202003-1218-008       1218   \n",
       "457          1218-0145      202003-1218-007       1218   \n",
       "458          1218-0221      202003-1218-005       1218   \n",
       "459          1218-0216      202003-1218-004       1218   \n",
       "460          1218-0202      201912-1218-010       1218   \n",
       "461          1218-0065      201911-1218-005       1218   \n",
       "462          1218-0236      201911-1218-004       1218   \n",
       "463          1218-0185      201911-1218-003       1218   \n",
       "464          1218-0205      201911-1218-001       1218   \n",
       "465          1230-0014      202006-1230-001       1230   \n",
       "466          1240-0035      202003-1240-001       1240   \n",
       "467          1240-0033      202002-1240-005       1240   \n",
       "468          1240-0003      202002-1240-002       1240   \n",
       "469          1240-0026      202001-1240-003       1240   \n",
       "470          1240-0014      202001-1240-002       1240   \n",
       "471          1240-0011      202001-1240-001       1240   \n",
       "472          1240-0022      201911-1240-006       1240   \n",
       "473          1240-0027      201911-1240-004       1240   \n",
       "474          1240-0048      201910-1240-005       1240   \n",
       "475          1240-0055      201906-1240-001       1240   \n",
       "476          1235-0001      202006-1235-001       1235   \n",
       "477          1235-0016      202001-1235-009       1235   \n",
       "478          1235-0015      202001-1235-008       1235   \n",
       "758          1212-0009      202007-1212-001       1212   \n",
       "759          1212-0017      202006-1212-001       1212   \n",
       "\n",
       "                                                 Title   submission_date  \\\n",
       "434                Consumer Price Index Housing Survey  2020-06-29-04:00   \n",
       "435         National Longitudinal Survey of Youth 1979  2020-06-17-04:00   \n",
       "436  Consumer Price Index Commodities and Services ...  2020-07-21-04:00   \n",
       "437  Default Investment Alternatives under Particip...  2020-05-27-04:00   \n",
       "438  Disclosures for Participant Directed Individua...  2020-05-27-04:00   \n",
       "439  Summary Plan Description Requirements Under th...  2020-05-27-04:00   \n",
       "440         Defined Benefit Plan Annual Funding Notice  2020-05-27-04:00   \n",
       "441  Consent to Receive Employee Benefit Plan Discl...  2020-05-27-04:00   \n",
       "442          American Apprenticeship Initiative Grants  2020-06-24-04:00   \n",
       "443  Agricultural Recruitment System Forms Affectin...  2020-05-04-04:00   \n",
       "444  Qualification/Certification Program Request fo...  2020-07-17-04:00   \n",
       "445  Periodic Medical Surveillance Examinations for...  2020-07-17-04:00   \n",
       "446                         Respirator Program Records  2020-07-17-04:00   \n",
       "447  Mine Rescue Teams, Arrangements for Emergency ...  2020-02-28-05:00   \n",
       "448           Radiation Sampling and Exposure Records   2020-06-23-04:00   \n",
       "449  Application for Waiver of Surface Sanitary Fac...  2020-03-19-04:00   \n",
       "450  Safety Defects; Examination, Correction, and R...  2020-06-23-04:00   \n",
       "451  Health Standards for Diesel Particulate Matter...  2020-04-09-04:00   \n",
       "452  Safety Standards for Underground Coal Mine Ven...  2020-01-22-05:00   \n",
       "453  Beryllium Standard for General Industry (29 CF...  2020-07-22-04:00   \n",
       "454  Presence Sensing Device Initiation (PSDI) Stan...  2020-06-18-04:00   \n",
       "455  Construction Fall Protection Systems Criteria,...  2020-05-04-04:00   \n",
       "456  Occupational Safety and Health Administration ...  2020-04-15-04:00   \n",
       "457           Formaldehyde Standard (29 CFR 1910.1048)  2020-04-28-04:00   \n",
       "458  Crawler, Locomotive, and Truck Cranes Standard...  2020-04-29-04:00   \n",
       "459            Aerial Lifts Standard (29 CFR 1926.453)  2020-04-29-04:00   \n",
       "460  Hazardous Waste Operations and Emergency Respo...  2020-01-29-05:00   \n",
       "461  Access to Employee Exposure and Medical Record...  2020-04-15-04:00   \n",
       "462  Regulations Containing Procedures for Handling...  2020-03-27-04:00   \n",
       "463  Cadmium in General Industry Standard (29 CFR 1...  2020-04-01-04:00   \n",
       "464  Personal Protective Equipment for General Indu...  2020-02-25-05:00   \n",
       "465  Retaining Employment and Talent after Injury/I...  2020-07-17-04:00   \n",
       "466  Description of Coal Mine Work and Other Employ...  2020-06-09-04:00   \n",
       "467  Coal Mine Operator Response to Schedule for Su...  2020-06-16-04:00   \n",
       "468  Employer's First Report of Injury or Occupatio...  2020-06-25-04:00   \n",
       "469  Application for Continuation of Death Benefit ...  2020-05-27-04:00   \n",
       "470  Administration of the Longshore and Harbor Wor...  2020-05-27-04:00   \n",
       "471  Application for Approval of a Representative's...  2020-05-12-04:00   \n",
       "472  Notice of Law Enforcement Officer's Injury or ...  2020-03-30-04:00   \n",
       "473  Survivor's Form for Benefits Under the Black L...  2020-03-27-04:00   \n",
       "474             Notice of Issuance of Insurance Policy  2020-02-06-05:00   \n",
       "475  Authorization Request Forms/Certification/Lett...  2020-02-12-05:00   \n",
       "476  Fair Labor Standards Act Special Employment Pr...  2020-07-08-04:00   \n",
       "477  Application for a Farm Labor Contractor or Far...  2020-03-26-04:00   \n",
       "478     Report of Construction Contractor's Wage Rates  2020-05-28-04:00   \n",
       "758             Payment of Premiums (29 CFR part 4007)  2020-07-21-04:00   \n",
       "759  Liability for Termination of Single-Employer P...  2020-06-10-04:00   \n",
       "\n",
       "    Agency  \n",
       "434     12  \n",
       "435     12  \n",
       "436     12  \n",
       "437     12  \n",
       "438     12  \n",
       "439     12  \n",
       "440     12  \n",
       "441     12  \n",
       "442     12  \n",
       "443     12  \n",
       "444     12  \n",
       "445     12  \n",
       "446     12  \n",
       "447     12  \n",
       "448     12  \n",
       "449     12  \n",
       "450     12  \n",
       "451     12  \n",
       "452     12  \n",
       "453     12  \n",
       "454     12  \n",
       "455     12  \n",
       "456     12  \n",
       "457     12  \n",
       "458     12  \n",
       "459     12  \n",
       "460     12  \n",
       "461     12  \n",
       "462     12  \n",
       "463     12  \n",
       "464     12  \n",
       "465     12  \n",
       "466     12  \n",
       "467     12  \n",
       "468     12  \n",
       "469     12  \n",
       "470     12  \n",
       "471     12  \n",
       "472     12  \n",
       "473     12  \n",
       "474     12  \n",
       "475     12  \n",
       "476     12  \n",
       "477     12  \n",
       "478     12  \n",
       "758     12  \n",
       "759     12  "
      ]
     },
     "execution_count": 14,
     "metadata": {},
     "output_type": "execute_result"
    }
   ],
   "source": [
    "pending_df_dol"
   ]
  },
  {
   "cell_type": "markdown",
   "metadata": {},
   "source": [
    "3. make a list of all omb control numbers in inventory\n"
   ]
  },
  {
   "cell_type": "code",
   "execution_count": 15,
   "metadata": {},
   "outputs": [],
   "source": [
    "pending_omb_cntrl_number_list = pending_df_dol.omb_control_number.to_list()"
   ]
  },
  {
   "cell_type": "code",
   "execution_count": 16,
   "metadata": {},
   "outputs": [
    {
     "data": {
      "text/plain": [
       "47"
      ]
     },
     "execution_count": 16,
     "metadata": {},
     "output_type": "execute_result"
    }
   ],
   "source": [
    "len(pending_omb_cntrl_number_list)"
   ]
  },
  {
   "cell_type": "markdown",
   "metadata": {},
   "source": [
    "4. make a list of all omb control numbers in pending\n"
   ]
  },
  {
   "cell_type": "code",
   "execution_count": 17,
   "metadata": {},
   "outputs": [],
   "source": [
    "inventory_omb_cntrl_number_list = inventory_df.omb_control_number.to_list()\n",
    "\n"
   ]
  },
  {
   "cell_type": "code",
   "execution_count": 18,
   "metadata": {},
   "outputs": [
    {
     "data": {
      "text/plain": [
       "474"
      ]
     },
     "execution_count": 18,
     "metadata": {},
     "output_type": "execute_result"
    }
   ],
   "source": [
    "len(inventory_omb_cntrl_number_list)"
   ]
  },
  {
   "cell_type": "code",
   "execution_count": 19,
   "metadata": {},
   "outputs": [],
   "source": [
    "icr_list = inventory_omb_cntrl_number_list"
   ]
  },
  {
   "cell_type": "markdown",
   "metadata": {},
   "source": [
    "5. combine those lists\n"
   ]
  },
  {
   "cell_type": "code",
   "execution_count": 20,
   "metadata": {},
   "outputs": [],
   "source": [
    "icr_list.extend(pending_omb_cntrl_number_list)"
   ]
  },
  {
   "cell_type": "code",
   "execution_count": 21,
   "metadata": {},
   "outputs": [
    {
     "data": {
      "text/plain": [
       "521"
      ]
     },
     "execution_count": 21,
     "metadata": {},
     "output_type": "execute_result"
    }
   ],
   "source": [
    "len(icr_list)"
   ]
  },
  {
   "cell_type": "code",
   "execution_count": 22,
   "metadata": {},
   "outputs": [
    {
     "data": {
      "text/plain": [
       "'1235-0015'"
      ]
     },
     "execution_count": 22,
     "metadata": {},
     "output_type": "execute_result"
    }
   ],
   "source": [
    "icr_list[-3]"
   ]
  },
  {
   "cell_type": "markdown",
   "metadata": {},
   "source": [
    "example\n",
    "https://www.federalregister.gov/api/v1/documents.json?conditions%5Bagencies%5D%5B%5D=labor-department&conditions%5Bterm%5D=  \n",
    "1235-0015  \n",
    "&conditions%5Btype%5D%5B%5D=NOTICE&order=newest\"  \n"
   ]
  },
  {
   "cell_type": "markdown",
   "metadata": {},
   "source": [
    "6. search the federal register for all those omb control numbers \n",
    "7.  save those to a list\n",
    "8. create a table of all the notices\n"
   ]
  },
  {
   "cell_type": "code",
   "execution_count": 23,
   "metadata": {},
   "outputs": [],
   "source": [
    "folder_name = datetime.datetime.now().strftime('notice_%Y-%m-%d')   \n",
    "os.chdir('/home/jupyter-ed/projects/pra/scripts/EDA')\n"
   ]
  },
  {
   "cell_type": "markdown",
   "metadata": {},
   "source": [
    "# define the name of the directory to be created\n",
    "os.mkdir(folder_name)\n",
    "os.chdir(folder_name)"
   ]
  },
  {
   "cell_type": "code",
   "execution_count": 24,
   "metadata": {},
   "outputs": [],
   "source": [
    "def omb_cntrl_number_frn_link(omb_control_number):\n",
    "    prefix = \"https://www.federalregister.gov/api/v1/documents.json?conditions%5Bagencies%5D%5B%5D=labor-department&conditions%5Bterm%5D=\"\n",
    "    suffix= \"&conditions%5Btype%5D%5B%5D=NOTICE\"\n",
    "    query_url = prefix + omb_control_number + suffix\n",
    "    return(query_url)\n"
   ]
  },
  {
   "cell_type": "code",
   "execution_count": 25,
   "metadata": {},
   "outputs": [],
   "source": [
    "def get_omb_frn(query_url,omb_control_number):\n",
    "    fr_request = requests.get(query_url)\n",
    "    fr_json = fr_request.json()\n",
    "    json_file_name = 'notices_'+omb_control_number+'.json'\n",
    "    with open(json_file_name, 'w') as f:\n",
    "        json.dump(fr_json, f)"
   ]
  },
  {
   "cell_type": "code",
   "execution_count": 26,
   "metadata": {},
   "outputs": [],
   "source": [
    "test_omb_number ='1235-0015'\n",
    "    "
   ]
  },
  {
   "cell_type": "code",
   "execution_count": 27,
   "metadata": {},
   "outputs": [],
   "source": [
    "test_link = omb_cntrl_number_frn_link(test_omb_number)"
   ]
  },
  {
   "cell_type": "code",
   "execution_count": 28,
   "metadata": {},
   "outputs": [
    {
     "data": {
      "text/plain": [
       "'https://www.federalregister.gov/api/v1/documents.json?conditions%5Bagencies%5D%5B%5D=labor-department&conditions%5Bterm%5D=1235-0015&conditions%5Btype%5D%5B%5D=NOTICE'"
      ]
     },
     "execution_count": 28,
     "metadata": {},
     "output_type": "execute_result"
    }
   ],
   "source": [
    "test_link"
   ]
  },
  {
   "cell_type": "code",
   "execution_count": 29,
   "metadata": {},
   "outputs": [],
   "source": [
    "get_omb_frn(test_link,test_omb_number)"
   ]
  },
  {
   "cell_type": "markdown",
   "metadata": {},
   "source": [
    "for omb_number in icr_list:\n",
    "    omb_link = omb_cntrl_number_frn_link(omb_number)\n",
    "    get_omb_frn(omb_link,omb_number)\n",
    "    "
   ]
  },
  {
   "cell_type": "markdown",
   "metadata": {},
   "source": [
    "read in the json files and create a table "
   ]
  },
  {
   "cell_type": "code",
   "execution_count": 30,
   "metadata": {},
   "outputs": [
    {
     "data": {
      "text/plain": [
       "'https://www.federalregister.gov/api/v1/documents.json?conditions%5Bagencies%5D%5B%5D=labor-department&conditions%5Bterm%5D=1235-0015&conditions%5Btype%5D%5B%5D=NOTICE'"
      ]
     },
     "execution_count": 30,
     "metadata": {},
     "output_type": "execute_result"
    }
   ],
   "source": [
    "test_link"
   ]
  },
  {
   "cell_type": "code",
   "execution_count": 31,
   "metadata": {},
   "outputs": [],
   "source": [
    "fr_request = requests.get(test_link)\n",
    "fr_json = fr_request.json()"
   ]
  },
  {
   "cell_type": "code",
   "execution_count": 32,
   "metadata": {},
   "outputs": [
    {
     "data": {
      "text/plain": [
       "{'count': 10,\n",
       " 'description': \"Documents matching '1235-0015', from Labor Department, and of type Notice\",\n",
       " 'total_pages': 1,\n",
       " 'results': [{'title': \"Agency Information Collection Activities; Submission for OMB Review; Comment Request; Report of Construction Contractor's Wage Rates\",\n",
       "   'type': 'Notice',\n",
       "   'abstract': 'The Department of Labor (DOL) is submitting this Wage and Hour Division (WHD)-sponsored information collection request (ICR) to the Office of Management and Budget (OMB) for review and approval in accordance with the Paperwork Reduction Act of 1995 (PRA). Public comments on the ICR are invited.',\n",
       "   'document_number': '2020-11458',\n",
       "   'html_url': 'https://www.federalregister.gov/documents/2020/05/28/2020-11458/agency-information-collection-activities-submission-for-omb-review-comment-request-report-of',\n",
       "   'pdf_url': 'https://www.govinfo.gov/content/pkg/FR-2020-05-28/pdf/2020-11458.pdf',\n",
       "   'public_inspection_pdf_url': 'https://s3.amazonaws.com/public-inspection.federalregister.gov/2020-11458.pdf?1590583571',\n",
       "   'publication_date': '2020-05-28',\n",
       "   'agencies': [{'raw_name': 'DEPARTMENT OF LABOR',\n",
       "     'name': 'Labor Department',\n",
       "     'id': 271,\n",
       "     'url': 'https://www.federalregister.gov/agencies/labor-department',\n",
       "     'json_url': 'https://www.federalregister.gov/api/v1/agencies/271',\n",
       "     'parent_id': None,\n",
       "     'slug': 'labor-department'},\n",
       "    {'raw_name': 'Office of the Secretary'}],\n",
       "   'excerpts': 'Report of Construction Contractor\\'s Wage Rates. \\n \\n OMB Control Number: <span class=\"match\">1235-0015</span>. \\n \\n Affected Public: Private Sector: Businesses or other for-profits,'},\n",
       "  {'title': \"Agency Information Collection Activities; Comment Request; Information Collections: Report of Construction Contractor's Wage Rates\",\n",
       "   'type': 'Notice',\n",
       "   'abstract': \"The Department of Labor, as part of its continuing effort to reduce paperwork and respondent burden, conducts a preclearance consultation program to provide the general public and Federal agencies with an opportunity to comment on proposed and/or continuing collections of information in accordance with the Paperwork Reduction Act of 1995 (PRA95). This program helps to ensure that requested data can be provided in the desired format, reporting burden (time and financial resources) is minimized, collection instruments are clearly understood, and the impact of collection requirements on respondents can be properly assessed. Currently, the Wage and Hour Division is soliciting comments concerning its proposed extension of the Office of Management and Budget (OMB) approved information collection request (ICR) titled, ``Report of Construction Contractor's Wage Rates.'' A copy of the proposed information collection request can be obtained by contacting the office listed below in the FOR FURTHER INFORMATION CONTACT section of this Notice.\",\n",
       "   'document_number': '2019-25457',\n",
       "   'html_url': 'https://www.federalregister.gov/documents/2019/11/25/2019-25457/agency-information-collection-activities-comment-request-information-collections-report-of',\n",
       "   'pdf_url': 'https://www.govinfo.gov/content/pkg/FR-2019-11-25/pdf/2019-25457.pdf',\n",
       "   'public_inspection_pdf_url': 'https://s3.amazonaws.com/public-inspection.federalregister.gov/2019-25457.pdf?1574430322',\n",
       "   'publication_date': '2019-11-25',\n",
       "   'agencies': [{'raw_name': 'DEPARTMENT OF LABOR',\n",
       "     'name': 'Labor Department',\n",
       "     'id': 271,\n",
       "     'url': 'https://www.federalregister.gov/agencies/labor-department',\n",
       "     'json_url': 'https://www.federalregister.gov/api/v1/agencies/271',\n",
       "     'parent_id': None,\n",
       "     'slug': 'labor-department'},\n",
       "    {'raw_name': 'Wage and Hour Division',\n",
       "     'name': 'Wage and Hour Division',\n",
       "     'id': 524,\n",
       "     'url': 'https://www.federalregister.gov/agencies/wage-and-hour-division',\n",
       "     'json_url': 'https://www.federalregister.gov/api/v1/agencies/524',\n",
       "     'parent_id': 271,\n",
       "     'slug': 'wage-and-hour-division'}],\n",
       "   'excerpts': '\\n \\n ADDRESSES: \\n You may submit comments identified by Control Number <span class=\"match\">1235-0015</span>, by either one of the following methods: Email: WHDPRAComments@dol.gov; … Title: Report of Construction Contractor\\'s Wage Rates. \\n \\n OMB Numbers: <span class=\"match\">1235-0015</span>. \\n \\n Affected Public: Businesses or other for-profits, Federal Government'},\n",
       "  {'title': 'Agency Information Collection Activities; Announcement of OMB Approvals',\n",
       "   'type': 'Notice',\n",
       "   'abstract': \"The Department of Labor, Wage and Hour Division announces that the Office of Management and Budget (OMB) has approved certain collections of information listed in the SUPPLEMENTARY INFORMATION below, following the Wage and Hour Division's submission of requests for approvals under the Paperwork Reduction Act of 1995 (PRA). This notice describes the information collections that have been approved or re-approved, the corresponding OMB Control Numbers, and their current expiration dates.\",\n",
       "   'document_number': '2020-03606',\n",
       "   'html_url': 'https://www.federalregister.gov/documents/2020/02/24/2020-03606/agency-information-collection-activities-announcement-of-omb-approvals',\n",
       "   'pdf_url': 'https://www.govinfo.gov/content/pkg/FR-2020-02-24/pdf/2020-03606.pdf',\n",
       "   'public_inspection_pdf_url': 'https://s3.amazonaws.com/public-inspection.federalregister.gov/2020-03606.pdf?1582292730',\n",
       "   'publication_date': '2020-02-24',\n",
       "   'agencies': [{'raw_name': 'DEPARTMENT OF LABOR',\n",
       "     'name': 'Labor Department',\n",
       "     'id': 271,\n",
       "     'url': 'https://www.federalregister.gov/agencies/labor-department',\n",
       "     'json_url': 'https://www.federalregister.gov/api/v1/agencies/271',\n",
       "     'parent_id': None,\n",
       "     'slug': 'labor-department'},\n",
       "    {'raw_name': 'Wage and Hour Division',\n",
       "     'name': 'Wage and Hour Division',\n",
       "     'id': 524,\n",
       "     'url': 'https://www.federalregister.gov/agencies/wage-and-hour-division',\n",
       "     'json_url': 'https://www.federalregister.gov/api/v1/agencies/524',\n",
       "     'parent_id': 271,\n",
       "     'slug': 'wage-and-hour-division'}],\n",
       "   'excerpts': 'for this information collection is June 30, 2021. \\n • OMB Control No. <span class=\"match\">1235-0015</span>, Report of Construction Contractor\\'s Wage Rates. The expiration date for'},\n",
       "  {'title': 'Agency Information Collection Activities; Announcement of OMB Approvals',\n",
       "   'type': 'Notice',\n",
       "   'abstract': \"The Department of Labor, Wage and Hour Division announces that the Office of Management and Budget (OMB) has approved certain collections of information listed in the SUPPLEMENTARY INFORMATION below, following the Wage and Hour Division's submission of requests for approvals under the Paperwork Reduction Act of 1995 (PRA). This notice describes the information collections that have been approved or re-approved, the corresponding OMB Control Numbers, and their current expiration dates.\",\n",
       "   'document_number': '2017-12231',\n",
       "   'html_url': 'https://www.federalregister.gov/documents/2017/06/13/2017-12231/agency-information-collection-activities-announcement-of-omb-approvals',\n",
       "   'pdf_url': 'https://www.govinfo.gov/content/pkg/FR-2017-06-13/pdf/2017-12231.pdf',\n",
       "   'public_inspection_pdf_url': 'https://s3.amazonaws.com/public-inspection.federalregister.gov/2017-12231.pdf?1497271569',\n",
       "   'publication_date': '2017-06-13',\n",
       "   'agencies': [{'raw_name': 'DEPARTMENT OF LABOR',\n",
       "     'name': 'Labor Department',\n",
       "     'id': 271,\n",
       "     'url': 'https://www.federalregister.gov/agencies/labor-department',\n",
       "     'json_url': 'https://www.federalregister.gov/api/v1/agencies/271',\n",
       "     'parent_id': None,\n",
       "     'slug': 'labor-department'},\n",
       "    {'raw_name': 'Wage and Hour Division',\n",
       "     'name': 'Wage and Hour Division',\n",
       "     'id': 524,\n",
       "     'url': 'https://www.federalregister.gov/agencies/wage-and-hour-division',\n",
       "     'json_url': 'https://www.federalregister.gov/api/v1/agencies/524',\n",
       "     'parent_id': 271,\n",
       "     'slug': 'wage-and-hour-division'}],\n",
       "   'excerpts': 'this information collection is February 28, 2018. \\n • OMB Control No. <span class=\"match\">1235-0015</span>, Report of Construction Contractor\\'s Wage Rates. The expiration date for'},\n",
       "  {'title': \"Agency Information Collection Activities; Submission for OMB Review; Comment Request; Report of Construction Contractor's Wage Rates\",\n",
       "   'type': 'Notice',\n",
       "   'abstract': \"The Department of Labor (DOL) is submitting the Wage and Hour Division (WHD) sponsored information collection request (ICR) titled, ``Report of Construction Contractor's Wage Rates,'' to the Office of Management and Budget (OMB) for review and approval for continued use, without change, in accordance with the Paperwork Reduction Act of 1995 (PRA). Public comments on the ICR are invited.\",\n",
       "   'document_number': '2017-04369',\n",
       "   'html_url': 'https://www.federalregister.gov/documents/2017/03/07/2017-04369/agency-information-collection-activities-submission-for-omb-review-comment-request-report-of',\n",
       "   'pdf_url': 'https://www.govinfo.gov/content/pkg/FR-2017-03-07/pdf/2017-04369.pdf',\n",
       "   'public_inspection_pdf_url': 'https://s3.amazonaws.com/public-inspection.federalregister.gov/2017-04369.pdf?1488807949',\n",
       "   'publication_date': '2017-03-07',\n",
       "   'agencies': [{'raw_name': 'DEPARTMENT OF LABOR',\n",
       "     'name': 'Labor Department',\n",
       "     'id': 271,\n",
       "     'url': 'https://www.federalregister.gov/agencies/labor-department',\n",
       "     'json_url': 'https://www.federalregister.gov/api/v1/agencies/271',\n",
       "     'parent_id': None,\n",
       "     'slug': 'labor-department'},\n",
       "    {'raw_name': 'Office of the Secretary'}],\n",
       "   'excerpts': 'obtains OMB approval for this information collection under Control Number <span class=\"match\">1235-0015</span>. \\n OMB authorization for an ICR cannot be for more than three (3) years … appropriate consideration, comments should mention OMB Control Number <span class=\"match\">1235-0015</span>. The OMB is particularly interested in comments that: \\n • Evaluate whether … Report of Construction Contractor\\'s Wage Rates. \\n \\n OMB Control Number: <span class=\"match\">1235-0015</span>. \\n \\n Affected Public: Private Sector—businesses or other for-profits, not-for-profit'},\n",
       "  {'title': \"Agency Information Collection Activities; Comment Request; Information Collections: Report of Construction Contractor's Wage Rates\",\n",
       "   'type': 'Notice',\n",
       "   'abstract': \"The Department of Labor (DOL) is soliciting comments concerning a proposed extension of the information collection request (ICR) titled, ``Report of Construction Contractor's Wage Rates.'' This comment request is part of continuing Departmental efforts to reduce paperwork and respondent burden in accordance with the Paperwork Reduction Act of 1995 (PRA), 44 U.S.C. 3501 et seq. This program helps to ensure that requested data can be provided in the desired format, reporting burden (time and financial resources) is minimized, collection instruments are clearly understood, and the impact of collection requirements on respondents can be properly assessed. A copy of the proposed information request can be obtained by contacting the office listed below in the FOR FURTHER INFORMATION CONTACT section of this Notice.\",\n",
       "   'document_number': '2016-25079',\n",
       "   'html_url': 'https://www.federalregister.gov/documents/2016/10/18/2016-25079/agency-information-collection-activities-comment-request-information-collections-report-of',\n",
       "   'pdf_url': 'https://www.govinfo.gov/content/pkg/FR-2016-10-18/pdf/2016-25079.pdf',\n",
       "   'public_inspection_pdf_url': 'https://s3.amazonaws.com/public-inspection.federalregister.gov/2016-25079.pdf?1476708342',\n",
       "   'publication_date': '2016-10-18',\n",
       "   'agencies': [{'raw_name': 'DEPARTMENT OF LABOR',\n",
       "     'name': 'Labor Department',\n",
       "     'id': 271,\n",
       "     'url': 'https://www.federalregister.gov/agencies/labor-department',\n",
       "     'json_url': 'https://www.federalregister.gov/api/v1/agencies/271',\n",
       "     'parent_id': None,\n",
       "     'slug': 'labor-department'},\n",
       "    {'raw_name': 'Wage and Hour Division',\n",
       "     'name': 'Wage and Hour Division',\n",
       "     'id': 524,\n",
       "     'url': 'https://www.federalregister.gov/agencies/wage-and-hour-division',\n",
       "     'json_url': 'https://www.federalregister.gov/api/v1/agencies/524',\n",
       "     'parent_id': 271,\n",
       "     'slug': 'wage-and-hour-division'}],\n",
       "   'excerpts': '\\n \\n ADDRESSES: \\n You may submit comments identified by Control Number <span class=\"match\">1235-0015</span>, by either one of the following methods: Email: WHDPRAComments@dol.gov; … Title: Report of Construction Contractor\\'s Wage Rates. \\n \\n OMB Number: <span class=\"match\">1235-0015</span>. \\n \\n Affected Public: Business or other for-profit, Not-for-profit institutions'},\n",
       "  {'title': \"Agency Information Collection Activities; Submission for OMB Review; Comment Request; Report of Construction Contractor's Wage Rates\",\n",
       "   'type': 'Notice',\n",
       "   'abstract': \"The Department of Labor (DOL) is submitting the Wage and Hour Division (WHD) sponsored information collection request (ICR) revision titled, ``Report of Construction Contractor's Wage Rates,'' to the Office of Management and Budget (OMB) for review and approval for use in accordance with the Paperwork Reduction Act (PRA) of 1995 (44 U.S.C. 3501 et seq.).\",\n",
       "   'document_number': '2014-06396',\n",
       "   'html_url': 'https://www.federalregister.gov/documents/2014/03/24/2014-06396/agency-information-collection-activities-submission-for-omb-review-comment-request-report-of',\n",
       "   'pdf_url': 'https://www.govinfo.gov/content/pkg/FR-2014-03-24/pdf/2014-06396.pdf',\n",
       "   'public_inspection_pdf_url': 'https://s3.amazonaws.com/public-inspection.federalregister.gov/2014-06396.pdf?1395407063',\n",
       "   'publication_date': '2014-03-24',\n",
       "   'agencies': [{'raw_name': 'DEPARTMENT OF LABOR',\n",
       "     'name': 'Labor Department',\n",
       "     'id': 271,\n",
       "     'url': 'https://www.federalregister.gov/agencies/labor-department',\n",
       "     'json_url': 'https://www.federalregister.gov/api/v1/agencies/271',\n",
       "     'parent_id': None,\n",
       "     'slug': 'labor-department'},\n",
       "    {'raw_name': 'Office of the Secretary'}],\n",
       "   'excerpts': 'obtains OMB approval for this information collection under Control Number <span class=\"match\">1235-0015</span>. The current approval is scheduled to expire on March 31, 2014; however … appropriate consideration, comments should mention OMB Control Number <span class=\"match\">1235-0015</span>. The OMB is particularly interested in comments that: \\n • Evaluate whether … Report of Construction Contractor\\'s Wage Rates. \\n \\n OMB Control Number: <span class=\"match\">1235-0015</span>. \\n \\n Affected Public: Private Sector—businesses or other for-profits and'},\n",
       "  {'title': 'Proposed Revision and Extension of the Approval of Information Collection Requirements',\n",
       "   'type': 'Notice',\n",
       "   'abstract': \"The Department of Labor, as part of its continuing effort to reduce paperwork and respondent burden, conducts a preclearance consultation program to provide the general public and Federal agencies with an opportunity to comment on proposed and/or continuing collections of information in accordance with the Paperwork Reduction Act of 1995 (PRA95). 44 U.S.C. 3506(c)(2)(A). This program helps to ensure that requested data can be provided in the desired format, reporting burden (time and financial resources) is minimized, collection instruments are clearly understood, and the impact of collection requirements on respondents can be properly assessed. Currently, the Wage and Hour Division is soliciting comments concerning its proposal to revise and extend Office of Management and Budget (OMB) approval of the Information Collection: Report of Construction Contractor's Wage Rates. A copy of the proposed information collection request can be obtained by contacting the office listed below in the FOR FURTHER INFORMATION CONTACT section of this Notice.\",\n",
       "   'document_number': '2013-28882',\n",
       "   'html_url': 'https://www.federalregister.gov/documents/2013/12/03/2013-28882/proposed-revision-and-extension-of-the-approval-of-information-collection-requirements',\n",
       "   'pdf_url': 'https://www.govinfo.gov/content/pkg/FR-2013-12-03/pdf/2013-28882.pdf',\n",
       "   'public_inspection_pdf_url': 'https://s3.amazonaws.com/public-inspection.federalregister.gov/2013-28882.pdf?1385992923',\n",
       "   'publication_date': '2013-12-03',\n",
       "   'agencies': [{'raw_name': 'DEPARTMENT OF LABOR',\n",
       "     'name': 'Labor Department',\n",
       "     'id': 271,\n",
       "     'url': 'https://www.federalregister.gov/agencies/labor-department',\n",
       "     'json_url': 'https://www.federalregister.gov/api/v1/agencies/271',\n",
       "     'parent_id': None,\n",
       "     'slug': 'labor-department'},\n",
       "    {'raw_name': 'Wage and Hour Division',\n",
       "     'name': 'Wage and Hour Division',\n",
       "     'id': 524,\n",
       "     'url': 'https://www.federalregister.gov/agencies/wage-and-hour-division',\n",
       "     'json_url': 'https://www.federalregister.gov/api/v1/agencies/524',\n",
       "     'parent_id': 271,\n",
       "     'slug': 'wage-and-hour-division'}],\n",
       "   'excerpts': '\\n \\n ADDRESSES: \\n You may submit comments identified by Control Number <span class=\"match\">1235-0015</span>, by either one of the following methods: \\n \\n Email: WHDPRAComments@dol … Title: Report of Construction Contractor\\'s Wage Rates. \\n \\n OMB Numbers: <span class=\"match\">1235-0015</span>. \\n \\n Affected Public: Businesses or other for-profits, Federal Government'},\n",
       "  {'title': \"Agency Information Collection Activities; Submission for OMB Review; Comment Request; Report of Construction Contractor's Wage Rates\",\n",
       "   'type': 'Notice',\n",
       "   'abstract': \"The Department of Labor (DOL) hereby announces the submission of the Wage Hour Division (WHD) sponsored information collection request (ICR) titled, ``Report of Construction Contractor's Wage Rates,'' to the Office of Management and Budget (OMB) for review and approval for continued use in accordance with the Paperwork Reduction Act of 1995 (Pub. L. 104-13, 44 U.S.C. chapter 35).\",\n",
       "   'document_number': '2011-1855',\n",
       "   'html_url': 'https://www.federalregister.gov/documents/2011/01/28/2011-1855/agency-information-collection-activities-submission-for-omb-review-comment-request-report-of',\n",
       "   'pdf_url': 'https://www.govinfo.gov/content/pkg/FR-2011-01-28/pdf/2011-1855.pdf',\n",
       "   'public_inspection_pdf_url': None,\n",
       "   'publication_date': '2011-01-28',\n",
       "   'agencies': [{'raw_name': 'DEPARTMENT OF LABOR',\n",
       "     'name': 'Labor Department',\n",
       "     'id': 271,\n",
       "     'url': 'https://www.federalregister.gov/agencies/labor-department',\n",
       "     'json_url': 'https://www.federalregister.gov/api/v1/agencies/271',\n",
       "     'parent_id': None,\n",
       "     'slug': 'labor-department'},\n",
       "    {'raw_name': 'Office of the Secretary'}],\n",
       "   'excerpts': 'OMB approval for this information collection under OMB Control Number <span class=\"match\">1235-0015</span>. The current OMB approval is scheduled to expire on January 11, 2011; however … appropriate consideration, comments should reference OMB Control Number <span class=\"match\">1235-0015</span>. The OMB is particularly interested in comments that: \\n • Evaluate whether … Report of Construction Contractor\\'s Wage Rates. \\n \\n OMB Control Number: <span class=\"match\">1235-0015</span>. \\n \\n Affected Public: Private sector—businesses or other for-profits. '},\n",
       "  {'title': 'Proposed Extension of the Approval of Information Collection Requirements',\n",
       "   'type': 'Notice',\n",
       "   'abstract': \"The Department of Labor, as part of its continuing effort to reduce paperwork and respondent burden, conducts a preclearance consultation program to provide the general public and Federal agencies with an opportunity to comment on proposed and/or continuing collections of information in accordance with the Paperwork Reduction Act of 1995 (PRA95). 44 U.S.C. 3506(c)(2)(A). This program helps to ensure that requested data can be provided in the desired format, reporting burden (time and financial resources) is minimized, collection instruments are clearly understood, and the impact of collection requirements on respondents can be properly assessed. Currently, the Wage and Hour Division is soliciting comments concerning its proposal to extend Office of Management and Budget (OMB) approval of the Information Collection: Report of Construction Contractor's Wage Rates. A copy of the proposed information collection request can be obtained by contacting the office listed below in the FOR FURTHER INFORMATION CONTACT section of this Notice.\",\n",
       "   'document_number': '2010-15401',\n",
       "   'html_url': 'https://www.federalregister.gov/documents/2010/06/25/2010-15401/proposed-extension-of-the-approval-of-information-collection-requirements',\n",
       "   'pdf_url': 'https://www.govinfo.gov/content/pkg/FR-2010-06-25/pdf/2010-15401.pdf',\n",
       "   'public_inspection_pdf_url': None,\n",
       "   'publication_date': '2010-06-25',\n",
       "   'agencies': [{'raw_name': 'DEPARTMENT OF LABOR',\n",
       "     'name': 'Labor Department',\n",
       "     'id': 271,\n",
       "     'url': 'https://www.federalregister.gov/agencies/labor-department',\n",
       "     'json_url': 'https://www.federalregister.gov/api/v1/agencies/271',\n",
       "     'parent_id': None,\n",
       "     'slug': 'labor-department'},\n",
       "    {'raw_name': 'Wage and Hour Division',\n",
       "     'name': 'Wage and Hour Division',\n",
       "     'id': 524,\n",
       "     'url': 'https://www.federalregister.gov/agencies/wage-and-hour-division',\n",
       "     'json_url': 'https://www.federalregister.gov/api/v1/agencies/524',\n",
       "     'parent_id': 271,\n",
       "     'slug': 'wage-and-hour-division'}],\n",
       "   'excerpts': '\\n \\n ADDRESSES: \\n You may submit comments identified by Control Number <span class=\"match\">1235-0015</span>, by either one of the following methods: \\n \\n E-mail: WHDPRAComments@dol … Title: Report of Construction Contractor\\'s Wage Rates. \\n \\n OMB Numbers: <span class=\"match\">1235-0015</span>. \\n \\n Affected Public: Businesses or other for-profits, Federal Government'}]}"
      ]
     },
     "execution_count": 32,
     "metadata": {},
     "output_type": "execute_result"
    }
   ],
   "source": [
    "fr_json"
   ]
  },
  {
   "cell_type": "code",
   "execution_count": 33,
   "metadata": {},
   "outputs": [
    {
     "data": {
      "text/plain": [
       "dict_keys(['title', 'type', 'abstract', 'document_number', 'html_url', 'pdf_url', 'public_inspection_pdf_url', 'publication_date', 'agencies', 'excerpts'])"
      ]
     },
     "execution_count": 33,
     "metadata": {},
     "output_type": "execute_result"
    }
   ],
   "source": [
    "fr_json['results'][0].keys()"
   ]
  },
  {
   "cell_type": "markdown",
   "metadata": {},
   "source": [
    "import json\n",
    "\n",
    "with open('data.txt') as json_file:\n",
    "    data = json.load(json_file)"
   ]
  },
  {
   "cell_type": "code",
   "execution_count": 34,
   "metadata": {},
   "outputs": [
    {
     "data": {
      "text/plain": [
       "['notices_1235-0015.json',\n",
       " '.ipynb_checkpoints',\n",
       " 'pending_eda.ipynb',\n",
       " 'notice_2020-07-29',\n",
       " 'html',\n",
       " 'Untitled.ipynb',\n",
       " 'history_eda.ipynb',\n",
       " 'connect_to_postgres_database_and_add_a_df_as_table.ipynb',\n",
       " 'todo_for_open_loop_report.ipynb',\n",
       " 'notice_2020-07-28']"
      ]
     },
     "execution_count": 34,
     "metadata": {},
     "output_type": "execute_result"
    }
   ],
   "source": [
    "os.listdir()"
   ]
  },
  {
   "cell_type": "code",
   "execution_count": 35,
   "metadata": {},
   "outputs": [],
   "source": [
    "file='notices_1235-0029.json'"
   ]
  },
  {
   "cell_type": "code",
   "execution_count": 36,
   "metadata": {},
   "outputs": [
    {
     "data": {
      "text/plain": [
       "'1235-0029'"
      ]
     },
     "execution_count": 36,
     "metadata": {},
     "output_type": "execute_result"
    }
   ],
   "source": [
    "file[8:17]"
   ]
  },
  {
   "cell_type": "code",
   "execution_count": 37,
   "metadata": {},
   "outputs": [
    {
     "ename": "FileNotFoundError",
     "evalue": "[Errno 2] No such file or directory: 'notices_1235-0029.json'",
     "output_type": "error",
     "traceback": [
      "\u001b[0;31m---------------------------------------------------------------------------\u001b[0m",
      "\u001b[0;31mFileNotFoundError\u001b[0m                         Traceback (most recent call last)",
      "\u001b[0;32m<ipython-input-37-1ccbff40b95e>\u001b[0m in \u001b[0;36m<module>\u001b[0;34m\u001b[0m\n\u001b[0;32m----> 1\u001b[0;31m \u001b[0;32mwith\u001b[0m \u001b[0mopen\u001b[0m\u001b[0;34m(\u001b[0m\u001b[0mfile\u001b[0m\u001b[0;34m)\u001b[0m \u001b[0;32mas\u001b[0m \u001b[0mjson_file\u001b[0m\u001b[0;34m:\u001b[0m\u001b[0;34m\u001b[0m\u001b[0;34m\u001b[0m\u001b[0m\n\u001b[0m\u001b[1;32m      2\u001b[0m     \u001b[0mdata\u001b[0m \u001b[0;34m=\u001b[0m \u001b[0mjson\u001b[0m\u001b[0;34m.\u001b[0m\u001b[0mload\u001b[0m\u001b[0;34m(\u001b[0m\u001b[0mjson_file\u001b[0m\u001b[0;34m)\u001b[0m\u001b[0;34m\u001b[0m\u001b[0;34m\u001b[0m\u001b[0m\n\u001b[1;32m      3\u001b[0m \u001b[0;34m\u001b[0m\u001b[0m\n",
      "\u001b[0;31mFileNotFoundError\u001b[0m: [Errno 2] No such file or directory: 'notices_1235-0029.json'"
     ]
    }
   ],
   "source": [
    "with open(file) as json_file:\n",
    "    data = json.load(json_file)\n",
    "    "
   ]
  },
  {
   "cell_type": "code",
   "execution_count": null,
   "metadata": {},
   "outputs": [],
   "source": [
    "data['results'][0].keys()"
   ]
  },
  {
   "cell_type": "code",
   "execution_count": null,
   "metadata": {},
   "outputs": [],
   "source": [
    "data['results'][0]['title']"
   ]
  },
  {
   "cell_type": "markdown",
   "metadata": {},
   "source": [
    "rows = []\n",
    "\n",
    "for file in os.listdir():\n",
    "    with open(file) as json_file:\n",
    "        data = json.load(json_file)\n",
    "        if data['count'] > 0:\n",
    "            notice=data['results'][0]\n",
    "            row = [file[8:17],notice['title'],notice['document_number'],notice['html_url'],notice['publication_date']]\n",
    "            rows.append(row)\n",
    "        else:\n",
    "            row = [file[8:17],'problem','problem','problem','problem']"
   ]
  },
  {
   "cell_type": "code",
   "execution_count": null,
   "metadata": {},
   "outputs": [],
   "source": [
    "file_list =os.listdir()"
   ]
  },
  {
   "cell_type": "code",
   "execution_count": null,
   "metadata": {},
   "outputs": [],
   "source": [
    "file_list"
   ]
  },
  {
   "cell_type": "code",
   "execution_count": null,
   "metadata": {},
   "outputs": [],
   "source": [
    "file_list.remove('.ipynb_checkpoints')\n",
    "file_list.remove('pending_eda.ipynb')"
   ]
  },
  {
   "cell_type": "code",
   "execution_count": null,
   "metadata": {},
   "outputs": [],
   "source": [
    "rows = []\n",
    "\n",
    "for file in file_list:\n",
    "    print(file)\n",
    "    with open(file) as json_file:\n",
    "        data = json.load(json_file)\n",
    "        if data['count'] > 0:\n",
    "            notice=data['results'][0]\n",
    "            row = [file[8:17],notice['title'],notice['document_number'],notice['html_url'],notice['publication_date']]\n",
    "            rows.append(row)\n",
    "        else:\n",
    "            row = [file[8:17],'problem','problem','problem','problem']"
   ]
  },
  {
   "cell_type": "code",
   "execution_count": null,
   "metadata": {},
   "outputs": [],
   "source": [
    "rows"
   ]
  },
  {
   "cell_type": "code",
   "execution_count": null,
   "metadata": {},
   "outputs": [],
   "source": [
    "notice_dataframe = pd.DataFrame(rows)"
   ]
  },
  {
   "cell_type": "code",
   "execution_count": null,
   "metadata": {},
   "outputs": [],
   "source": [
    "notice_dataframe.columns = ['omb_control_number','title','document_number','html_url','publication_date']"
   ]
  },
  {
   "cell_type": "code",
   "execution_count": null,
   "metadata": {},
   "outputs": [],
   "source": [
    "notice_dataframe"
   ]
  },
  {
   "cell_type": "markdown",
   "metadata": {},
   "source": [
    "finding the open loops that are new collections is its own project, going to finish finding the \"open loops\" for current inventory \n",
    "first \n",
    "\n",
    "these to do tasks are going to be after this project \n",
    "9. search for all the new notices for dol going back a year\n",
    "10. use the inventory to make sure that collections that were new and approved are all in that list of notices\n",
    "11. use the pending to make sure the collections that are new and submitted are in that list."
   ]
  },
  {
   "cell_type": "code",
   "execution_count": null,
   "metadata": {},
   "outputs": [],
   "source": [
    "inventory_df['expiration_date'] = pd.to_datetime(inventory_df['expiration_date'])\n"
   ]
  },
  {
   "cell_type": "code",
   "execution_count": null,
   "metadata": {},
   "outputs": [],
   "source": []
  },
  {
   "cell_type": "code",
   "execution_count": null,
   "metadata": {},
   "outputs": [],
   "source": [
    "\n",
    "\n"
   ]
  },
  {
   "cell_type": "code",
   "execution_count": null,
   "metadata": {},
   "outputs": [],
   "source": [
    " inventory_df[(inventory_df['expiration_date'] < '2021-07-27') ]['omb_control_number'].to_list()\n"
   ]
  },
  {
   "cell_type": "code",
   "execution_count": null,
   "metadata": {},
   "outputs": [],
   "source": [
    "expire_in_next_year_df = inventory_df[(inventory_df['expiration_date'] < '2021-07-27') ]\n"
   ]
  },
  {
   "cell_type": "code",
   "execution_count": null,
   "metadata": {},
   "outputs": [],
   "source": [
    "notice_dataframe['publication_date'] = pd.to_datetime(notice_dataframe['publication_date'])\n",
    "\n"
   ]
  },
  {
   "cell_type": "code",
   "execution_count": null,
   "metadata": {},
   "outputs": [],
   "source": [
    "expire_in_next_year_not_in_pending_df = expire_in_next_year_df[~expire_in_next_year_df.omb_control_number.isin(pending_omb_cntrl_number_list)]"
   ]
  },
  {
   "cell_type": "markdown",
   "metadata": {},
   "source": [
    "not sure where to put the cut off, but im going to start with a year out, for all the omb_control_numbers that havent had a notice pu\n",
    "published in the last year."
   ]
  },
  {
   "cell_type": "code",
   "execution_count": null,
   "metadata": {},
   "outputs": [],
   "source": [
    "published_in_the_last_year_df = notice_dataframe[(notice_dataframe['publication_date'] > '2019-07-27')]\n",
    "\n"
   ]
  },
  {
   "cell_type": "code",
   "execution_count": null,
   "metadata": {},
   "outputs": [],
   "source": [
    "published_in_the_last_year_list = published_in_the_last_year_df.omb_control_number.to_list()"
   ]
  },
  {
   "cell_type": "code",
   "execution_count": null,
   "metadata": {},
   "outputs": [],
   "source": [
    "expire_in_next_year_no_recent_notice=expire_in_next_year_not_in_pending_df[~expire_in_next_year_not_in_pending_df.omb_control_number.isin(published_in_the_last_year_list)]"
   ]
  },
  {
   "cell_type": "code",
   "execution_count": null,
   "metadata": {},
   "outputs": [],
   "source": [
    "expire_in_next_year_no_recent_notice.sort_values('expiration_date').head(30)"
   ]
  },
  {
   "cell_type": "code",
   "execution_count": null,
   "metadata": {},
   "outputs": [],
   "source": [
    "expire_in_next_year_no_recent_notice.count()"
   ]
  },
  {
   "cell_type": "code",
   "execution_count": null,
   "metadata": {},
   "outputs": [],
   "source": [
    "expire_in_next_year_no_recent_notice['expire_month'] = expire_in_next_year_no_recent_notice['expiration_date'].dt.strftime('%Y-%m')"
   ]
  },
  {
   "cell_type": "code",
   "execution_count": null,
   "metadata": {},
   "outputs": [],
   "source": [
    "expire_in_next_year_no_recent_notice.groupby('expire_month')['expire_month'].count()"
   ]
  },
  {
   "cell_type": "code",
   "execution_count": null,
   "metadata": {},
   "outputs": [],
   "source": [
    "expire_in_next_year_not_in_pending_df['expire_month'] = expire_in_next_year_not_in_pending_df['expiration_date'].dt.strftime('%Y-%m')\n",
    "\n",
    "\n",
    "expire_in_next_year_not_in_pending_df.groupby('expire_month')['expire_month'].count()"
   ]
  },
  {
   "cell_type": "markdown",
   "metadata": {},
   "source": [
    "# Part 2\n",
    "\n",
    "from the top, we have number 11 and 12 done.\n",
    "\n",
    "14 is going to have to be its own project.\n",
    "\n",
    "for now , the next step in this project is to create something that monitors the cycle time and lead time\n",
    "\n",
    "to do this i need to use a database\n",
    "\n",
    "so the next part will be connecting to the database and create the tables needed to monitor that information."
   ]
  },
  {
   "cell_type": "code",
   "execution_count": 38,
   "metadata": {},
   "outputs": [
    {
     "data": {
      "text/html": [
       "<div>\n",
       "<style scoped>\n",
       "    .dataframe tbody tr th:only-of-type {\n",
       "        vertical-align: middle;\n",
       "    }\n",
       "\n",
       "    .dataframe tbody tr th {\n",
       "        vertical-align: top;\n",
       "    }\n",
       "\n",
       "    .dataframe thead th {\n",
       "        text-align: right;\n",
       "    }\n",
       "</style>\n",
       "<table border=\"1\" class=\"dataframe\">\n",
       "  <thead>\n",
       "    <tr style=\"text-align: right;\">\n",
       "      <th></th>\n",
       "      <th>omb_control_number</th>\n",
       "      <th>icr_reference_number</th>\n",
       "      <th>Title</th>\n",
       "      <th>AgencyCode</th>\n",
       "      <th>ICRTypeCode</th>\n",
       "      <th>expiration_date</th>\n",
       "      <th>ICR_status</th>\n",
       "      <th>file_date</th>\n",
       "    </tr>\n",
       "  </thead>\n",
       "  <tbody>\n",
       "    <tr>\n",
       "      <th>0</th>\n",
       "      <td>1220-0008</td>\n",
       "      <td>201705-1220-001</td>\n",
       "      <td>Producer Price Index Survey</td>\n",
       "      <td>1220</td>\n",
       "      <td>Extension without change of a currently approv...</td>\n",
       "      <td>2020-10-31-04:00</td>\n",
       "      <td>Active</td>\n",
       "      <td>2020-07-27_inventory.xml</td>\n",
       "    </tr>\n",
       "    <tr>\n",
       "      <th>1</th>\n",
       "      <td>1220-0011</td>\n",
       "      <td>202006-1220-006</td>\n",
       "      <td>Report on Current Employment Statistics</td>\n",
       "      <td>1220</td>\n",
       "      <td>No material or nonsubstantive change to a curr...</td>\n",
       "      <td>2020-12-31-05:00</td>\n",
       "      <td>Active</td>\n",
       "      <td>2020-07-27_inventory.xml</td>\n",
       "    </tr>\n",
       "    <tr>\n",
       "      <th>2</th>\n",
       "      <td>1220-0012</td>\n",
       "      <td>201708-1220-001</td>\n",
       "      <td>Quarterly Census of Employment and Wages (QCEW)</td>\n",
       "      <td>1220</td>\n",
       "      <td>Extension without change of a currently approv...</td>\n",
       "      <td>2021-02-28-05:00</td>\n",
       "      <td>Active</td>\n",
       "      <td>2020-07-27_inventory.xml</td>\n",
       "    </tr>\n",
       "    <tr>\n",
       "      <th>3</th>\n",
       "      <td>1220-0017</td>\n",
       "      <td>201712-1220-002</td>\n",
       "      <td>Local Area Unemployment Statistics Program</td>\n",
       "      <td>1220</td>\n",
       "      <td>Revision of a currently approved collection</td>\n",
       "      <td>2021-07-31-04:00</td>\n",
       "      <td>Active</td>\n",
       "      <td>2020-07-27_inventory.xml</td>\n",
       "    </tr>\n",
       "    <tr>\n",
       "      <th>4</th>\n",
       "      <td>1220-0025</td>\n",
       "      <td>201806-1220-002</td>\n",
       "      <td>International Price Program U.S. Import and Ex...</td>\n",
       "      <td>1220</td>\n",
       "      <td>Extension without change of a currently approv...</td>\n",
       "      <td>2022-05-31-04:00</td>\n",
       "      <td>Active</td>\n",
       "      <td>2020-07-27_inventory.xml</td>\n",
       "    </tr>\n",
       "    <tr>\n",
       "      <th>...</th>\n",
       "      <td>...</td>\n",
       "      <td>...</td>\n",
       "      <td>...</td>\n",
       "      <td>...</td>\n",
       "      <td>...</td>\n",
       "      <td>...</td>\n",
       "      <td>...</td>\n",
       "      <td>...</td>\n",
       "    </tr>\n",
       "    <tr>\n",
       "      <th>469</th>\n",
       "      <td>1210-0150</td>\n",
       "      <td>201803-1210-001</td>\n",
       "      <td>Coverage of Certain Preventive Services under ...</td>\n",
       "      <td>1210</td>\n",
       "      <td>Revision of a currently approved collection</td>\n",
       "      <td>2021-11-30-05:00</td>\n",
       "      <td>Active</td>\n",
       "      <td>2020-07-27_inventory.xml</td>\n",
       "    </tr>\n",
       "    <tr>\n",
       "      <th>470</th>\n",
       "      <td>1210-0153</td>\n",
       "      <td>201902-1210-001</td>\n",
       "      <td>Alternative Reporting Methods for Apprenticesh...</td>\n",
       "      <td>1210</td>\n",
       "      <td>Revision of a currently approved collection</td>\n",
       "      <td>2022-08-31-04:00</td>\n",
       "      <td>Active</td>\n",
       "      <td>2020-07-27_inventory.xml</td>\n",
       "    </tr>\n",
       "    <tr>\n",
       "      <th>471</th>\n",
       "      <td>1210-0158</td>\n",
       "      <td>201906-1210-004</td>\n",
       "      <td>Insurance and Annuity Contracts and Mutual Fun...</td>\n",
       "      <td>1210</td>\n",
       "      <td>Revision of a currently approved collection</td>\n",
       "      <td>2022-08-31-04:00</td>\n",
       "      <td>Active</td>\n",
       "      <td>2020-07-27_inventory.xml</td>\n",
       "    </tr>\n",
       "    <tr>\n",
       "      <th>472</th>\n",
       "      <td>1210-0160</td>\n",
       "      <td>201905-1210-001</td>\n",
       "      <td>Notice for Health Reimbursement Arrangements i...</td>\n",
       "      <td>1210</td>\n",
       "      <td>New collection (Request for a new OMB Control ...</td>\n",
       "      <td>2022-06-30-04:00</td>\n",
       "      <td>Active</td>\n",
       "      <td>2020-07-27_inventory.xml</td>\n",
       "    </tr>\n",
       "    <tr>\n",
       "      <th>473</th>\n",
       "      <td>1210-0161</td>\n",
       "      <td>201912-1210-001</td>\n",
       "      <td>EBSA Participant Assistance Program Customer S...</td>\n",
       "      <td>1210</td>\n",
       "      <td>New collection (Request for a new OMB Control ...</td>\n",
       "      <td>2023-06-30-04:00</td>\n",
       "      <td>Active</td>\n",
       "      <td>2020-07-27_inventory.xml</td>\n",
       "    </tr>\n",
       "  </tbody>\n",
       "</table>\n",
       "<p>474 rows × 8 columns</p>\n",
       "</div>"
      ],
      "text/plain": [
       "    omb_control_number icr_reference_number  \\\n",
       "0            1220-0008      201705-1220-001   \n",
       "1            1220-0011      202006-1220-006   \n",
       "2            1220-0012      201708-1220-001   \n",
       "3            1220-0017      201712-1220-002   \n",
       "4            1220-0025      201806-1220-002   \n",
       "..                 ...                  ...   \n",
       "469          1210-0150      201803-1210-001   \n",
       "470          1210-0153      201902-1210-001   \n",
       "471          1210-0158      201906-1210-004   \n",
       "472          1210-0160      201905-1210-001   \n",
       "473          1210-0161      201912-1210-001   \n",
       "\n",
       "                                                 Title AgencyCode  \\\n",
       "0                          Producer Price Index Survey       1220   \n",
       "1              Report on Current Employment Statistics       1220   \n",
       "2      Quarterly Census of Employment and Wages (QCEW)       1220   \n",
       "3           Local Area Unemployment Statistics Program       1220   \n",
       "4    International Price Program U.S. Import and Ex...       1220   \n",
       "..                                                 ...        ...   \n",
       "469  Coverage of Certain Preventive Services under ...       1210   \n",
       "470  Alternative Reporting Methods for Apprenticesh...       1210   \n",
       "471  Insurance and Annuity Contracts and Mutual Fun...       1210   \n",
       "472  Notice for Health Reimbursement Arrangements i...       1210   \n",
       "473  EBSA Participant Assistance Program Customer S...       1210   \n",
       "\n",
       "                                           ICRTypeCode   expiration_date  \\\n",
       "0    Extension without change of a currently approv...  2020-10-31-04:00   \n",
       "1    No material or nonsubstantive change to a curr...  2020-12-31-05:00   \n",
       "2    Extension without change of a currently approv...  2021-02-28-05:00   \n",
       "3          Revision of a currently approved collection  2021-07-31-04:00   \n",
       "4    Extension without change of a currently approv...  2022-05-31-04:00   \n",
       "..                                                 ...               ...   \n",
       "469        Revision of a currently approved collection  2021-11-30-05:00   \n",
       "470        Revision of a currently approved collection  2022-08-31-04:00   \n",
       "471        Revision of a currently approved collection  2022-08-31-04:00   \n",
       "472  New collection (Request for a new OMB Control ...  2022-06-30-04:00   \n",
       "473  New collection (Request for a new OMB Control ...  2023-06-30-04:00   \n",
       "\n",
       "    ICR_status                 file_date  \n",
       "0       Active  2020-07-27_inventory.xml  \n",
       "1       Active  2020-07-27_inventory.xml  \n",
       "2       Active  2020-07-27_inventory.xml  \n",
       "3       Active  2020-07-27_inventory.xml  \n",
       "4       Active  2020-07-27_inventory.xml  \n",
       "..         ...                       ...  \n",
       "469     Active  2020-07-27_inventory.xml  \n",
       "470     Active  2020-07-27_inventory.xml  \n",
       "471     Active  2020-07-27_inventory.xml  \n",
       "472     Active  2020-07-27_inventory.xml  \n",
       "473     Active  2020-07-27_inventory.xml  \n",
       "\n",
       "[474 rows x 8 columns]"
      ]
     },
     "execution_count": 38,
     "metadata": {},
     "output_type": "execute_result"
    }
   ],
   "source": [
    "inventory_df"
   ]
  },
  {
   "cell_type": "code",
   "execution_count": 39,
   "metadata": {},
   "outputs": [],
   "source": [
    "os.chdir('/home/jupyter-ed/projects/pra/data/01_database')"
   ]
  },
  {
   "cell_type": "code",
   "execution_count": 40,
   "metadata": {},
   "outputs": [],
   "source": [
    "import sqlite3"
   ]
  },
  {
   "cell_type": "code",
   "execution_count": 41,
   "metadata": {},
   "outputs": [],
   "source": [
    "DBPATH = 'pradb.db'\n",
    "conn = sqlite3.connect(DBPATH)\n",
    "cursor = conn.cursor()"
   ]
  },
  {
   "cell_type": "markdown",
   "metadata": {},
   "source": [
    "inventory_df.to_sql('inventory',con=conn,if_exists='replace')"
   ]
  },
  {
   "cell_type": "code",
   "execution_count": 42,
   "metadata": {},
   "outputs": [
    {
     "data": {
      "text/plain": [
       "Index(['omb_control_number', 'icr_reference_number', 'Title', 'AgencyCode',\n",
       "       'ICRTypeCode', 'expiration_date', 'ICR_status', 'file_date'],\n",
       "      dtype='object')"
      ]
     },
     "execution_count": 42,
     "metadata": {},
     "output_type": "execute_result"
    }
   ],
   "source": [
    "inventory_df.columns"
   ]
  },
  {
   "cell_type": "markdown",
   "metadata": {},
   "source": [
    "DBPATH = 'pradb.db'\n",
    "conn = sqlite3.connect(DBPATH)\n"
   ]
  },
  {
   "cell_type": "markdown",
   "metadata": {},
   "source": [
    "pending_df_dol.to_sql('pending',con=conn,if_exists='replace')"
   ]
  },
  {
   "cell_type": "code",
   "execution_count": 43,
   "metadata": {},
   "outputs": [],
   "source": [
    "conn.close()"
   ]
  },
  {
   "cell_type": "markdown",
   "metadata": {},
   "source": []
  },
  {
   "cell_type": "code",
   "execution_count": 44,
   "metadata": {},
   "outputs": [],
   "source": [
    "# at oira\n"
   ]
  },
  {
   "cell_type": "code",
   "execution_count": 45,
   "metadata": {},
   "outputs": [],
   "source": [
    "# number in inventory"
   ]
  },
  {
   "cell_type": "code",
   "execution_count": 46,
   "metadata": {},
   "outputs": [
    {
     "data": {
      "text/plain": [
       "\"\\nwebsite_url = requests.get(url).text\\n      soup = BeautifulSoup(website_url,'lxml')\\n      ombcntrl_table = soup.find('table',{'class':'datatable'})\\n      rows = ombcntrl_table.findAll('tr')\\n      for row in rows:\\n        list_of_cells = []\\n        cells = row.findAll('td')\\n        if len(cells)>0:\\n          counter=0\\n          for cell in cells:\\n            cell_info = cell.getText(strip='True')\\n            list_of_cells.append(cell_info)\\n          info.append(list_of_cells)\\n        elif len(cells)<1:\\n          counter+=1\\n          \\n          \\n\""
      ]
     },
     "execution_count": 46,
     "metadata": {},
     "output_type": "execute_result"
    }
   ],
   "source": [
    "'''\n",
    "website_url = requests.get(url).text\n",
    "      soup = BeautifulSoup(website_url,'lxml')\n",
    "      ombcntrl_table = soup.find('table',{'class':'datatable'})\n",
    "      rows = ombcntrl_table.findAll('tr')\n",
    "      for row in rows:\n",
    "        list_of_cells = []\n",
    "        cells = row.findAll('td')\n",
    "        if len(cells)>0:\n",
    "          counter=0\n",
    "          for cell in cells:\n",
    "            cell_info = cell.getText(strip='True')\n",
    "            list_of_cells.append(cell_info)\n",
    "          info.append(list_of_cells)\n",
    "        elif len(cells)<1:\n",
    "          counter+=1\n",
    "          \n",
    "          \n",
    "'''     "
   ]
  },
  {
   "cell_type": "code",
   "execution_count": 47,
   "metadata": {},
   "outputs": [
    {
     "ename": "NameError",
     "evalue": "name 'expire_in_next_year_no_recent_notice' is not defined",
     "output_type": "error",
     "traceback": [
      "\u001b[0;31m---------------------------------------------------------------------------\u001b[0m",
      "\u001b[0;31mNameError\u001b[0m                                 Traceback (most recent call last)",
      "\u001b[0;32m<ipython-input-47-ebdfc9ff40da>\u001b[0m in \u001b[0;36m<module>\u001b[0;34m\u001b[0m\n\u001b[0;32m----> 1\u001b[0;31m \u001b[0mexpire_in_next_year_no_recent_notice\u001b[0m\u001b[0;34m\u001b[0m\u001b[0;34m\u001b[0m\u001b[0m\n\u001b[0m",
      "\u001b[0;31mNameError\u001b[0m: name 'expire_in_next_year_no_recent_notice' is not defined"
     ]
    }
   ],
   "source": [
    "expire_in_next_year_no_recent_notice"
   ]
  },
  {
   "cell_type": "code",
   "execution_count": 48,
   "metadata": {},
   "outputs": [
    {
     "ename": "NameError",
     "evalue": "name 'notice_dataframe' is not defined",
     "output_type": "error",
     "traceback": [
      "\u001b[0;31m---------------------------------------------------------------------------\u001b[0m",
      "\u001b[0;31mNameError\u001b[0m                                 Traceback (most recent call last)",
      "\u001b[0;32m<ipython-input-48-e26f28865e6c>\u001b[0m in \u001b[0;36m<module>\u001b[0;34m\u001b[0m\n\u001b[0;32m----> 1\u001b[0;31m \u001b[0mnotice_dataframe\u001b[0m\u001b[0;34m\u001b[0m\u001b[0;34m\u001b[0m\u001b[0m\n\u001b[0m",
      "\u001b[0;31mNameError\u001b[0m: name 'notice_dataframe' is not defined"
     ]
    }
   ],
   "source": [
    "notice_dataframe"
   ]
  },
  {
   "cell_type": "code",
   "execution_count": 49,
   "metadata": {},
   "outputs": [],
   "source": [
    "DBPATH = 'pradb.db'\n",
    "conn = sqlite3.connect(DBPATH)\n",
    "cursor = conn.cursor()"
   ]
  },
  {
   "cell_type": "code",
   "execution_count": 50,
   "metadata": {},
   "outputs": [
    {
     "ename": "NameError",
     "evalue": "name 'notice_dataframe' is not defined",
     "output_type": "error",
     "traceback": [
      "\u001b[0;31m---------------------------------------------------------------------------\u001b[0m",
      "\u001b[0;31mNameError\u001b[0m                                 Traceback (most recent call last)",
      "\u001b[0;32m<ipython-input-50-64c1399a9075>\u001b[0m in \u001b[0;36m<module>\u001b[0;34m\u001b[0m\n\u001b[0;32m----> 1\u001b[0;31m \u001b[0mnotice_dataframe\u001b[0m\u001b[0;34m.\u001b[0m\u001b[0mto_sql\u001b[0m\u001b[0;34m(\u001b[0m\u001b[0;34m'notices'\u001b[0m\u001b[0;34m,\u001b[0m\u001b[0mcon\u001b[0m\u001b[0;34m=\u001b[0m\u001b[0mconn\u001b[0m\u001b[0;34m,\u001b[0m\u001b[0mif_exists\u001b[0m\u001b[0;34m=\u001b[0m\u001b[0;34m'replace'\u001b[0m\u001b[0;34m)\u001b[0m\u001b[0;34m\u001b[0m\u001b[0;34m\u001b[0m\u001b[0m\n\u001b[0m",
      "\u001b[0;31mNameError\u001b[0m: name 'notice_dataframe' is not defined"
     ]
    }
   ],
   "source": [
    "\n",
    "\n",
    "notice_dataframe.to_sql('notices',con=conn,if_exists='replace')"
   ]
  },
  {
   "cell_type": "code",
   "execution_count": 51,
   "metadata": {},
   "outputs": [
    {
     "ename": "NameError",
     "evalue": "name 'notice_dataframe' is not defined",
     "output_type": "error",
     "traceback": [
      "\u001b[0;31m---------------------------------------------------------------------------\u001b[0m",
      "\u001b[0;31mNameError\u001b[0m                                 Traceback (most recent call last)",
      "\u001b[0;32m<ipython-input-51-e26f28865e6c>\u001b[0m in \u001b[0;36m<module>\u001b[0;34m\u001b[0m\n\u001b[0;32m----> 1\u001b[0;31m \u001b[0mnotice_dataframe\u001b[0m\u001b[0;34m\u001b[0m\u001b[0;34m\u001b[0m\u001b[0m\n\u001b[0m",
      "\u001b[0;31mNameError\u001b[0m: name 'notice_dataframe' is not defined"
     ]
    }
   ],
   "source": [
    "notice_dataframe"
   ]
  },
  {
   "cell_type": "code",
   "execution_count": 52,
   "metadata": {},
   "outputs": [],
   "source": [
    "conn.close()"
   ]
  },
  {
   "cell_type": "code",
   "execution_count": 53,
   "metadata": {},
   "outputs": [
    {
     "data": {
      "text/plain": [
       "Index(['omb_control_number', 'icr_reference_number', 'Title', 'AgencyCode',\n",
       "       'ICRTypeCode', 'expiration_date', 'ICR_status', 'file_date'],\n",
       "      dtype='object')"
      ]
     },
     "execution_count": 53,
     "metadata": {},
     "output_type": "execute_result"
    }
   ],
   "source": [
    "inventory_df.columns"
   ]
  },
  {
   "cell_type": "code",
   "execution_count": 54,
   "metadata": {},
   "outputs": [
    {
     "data": {
      "text/plain": [
       "Index(['omb_control_number', 'icr_reference_number', 'AgencyCode', 'Title',\n",
       "       'submission_date', 'Agency'],\n",
       "      dtype='object')"
      ]
     },
     "execution_count": 54,
     "metadata": {},
     "output_type": "execute_result"
    }
   ],
   "source": [
    "pending_df_dol.columns"
   ]
  },
  {
   "cell_type": "code",
   "execution_count": 55,
   "metadata": {},
   "outputs": [
    {
     "data": {
      "text/plain": [
       "array(['201705-1220-001', '202006-1220-006', '201708-1220-001',\n",
       "       '201712-1220-002', '201806-1220-002', '201810-1220-002',\n",
       "       '201703-1220-001', '202001-1220-002', '201710-1220-001',\n",
       "       '202004-1220-007', '201903-1220-001', '202004-1220-005',\n",
       "       '201706-1220-002', '201902-1220-001', '201706-1220-003',\n",
       "       '202004-1220-001', '201906-1220-002', '202003-1220-002',\n",
       "       '201708-1220-004', '202004-1220-004', '201903-1220-002',\n",
       "       '201806-1220-003', '201712-1220-003', '201711-1220-003',\n",
       "       '201907-1220-001', '201904-1220-003', '202001-1220-003',\n",
       "       '201805-1220-004', '201812-1220-002', '202005-1220-002',\n",
       "       '201902-1220-002', '202004-1220-008', '202005-1220-001',\n",
       "       '202006-1220-001', '202006-1220-005', '201803-1225-001',\n",
       "       '201601-1225-004', '201709-1225-001', '201905-1225-001',\n",
       "       '201706-1225-001', '201701-1225-001', '201705-1225-015CF',\n",
       "       '201912-1225-001CF', '201902-1225-003CF', '201902-1225-002CF',\n",
       "       '201912-1225-002CF', '201902-1225-001CF', '201909-1205-001',\n",
       "       '201810-1205-003', '201811-1205-001', '201710-1205-006',\n",
       "       '201912-1205-005', '202003-1205-003', '201909-1205-002',\n",
       "       '202004-1205-001', '202004-1205-002', '202003-1205-002',\n",
       "       '202003-1205-001', '202001-1205-001', '201808-1205-001',\n",
       "       '201710-1205-001', '201911-1205-002', '201907-1205-005',\n",
       "       '202001-1205-006', '201901-1205-002', '201905-1205-010',\n",
       "       '201807-1205-004', '202001-1205-003', '201906-1205-003',\n",
       "       '201905-1205-006', '201909-1205-008', '201902-1205-001',\n",
       "       '201706-1205-001', '201902-1205-002', '202002-1205-005',\n",
       "       '201907-1205-006', '201907-1205-003', '201912-1205-008',\n",
       "       '201912-1205-001', '201911-1205-007', '201907-1205-007',\n",
       "       '201710-1205-003', '201907-1205-008', '201905-1205-012',\n",
       "       '201809-1205-001', '201905-1205-011', '201910-1205-002',\n",
       "       '202002-1205-002', '201912-1205-010', '201912-1205-003',\n",
       "       '202002-1205-004', '201803-1205-001', '201912-1205-009',\n",
       "       '201909-1205-003', '201902-1205-003', '201907-1205-010',\n",
       "       '201801-1205-002', '202004-1205-007', '201909-1205-004',\n",
       "       '201706-1205-004', '201807-1205-001', '201907-1205-011',\n",
       "       '201808-1205-003', '201906-1205-009', '201810-1205-002',\n",
       "       '201909-1205-006', '201806-1205-002', '201903-1205-002',\n",
       "       '201802-1205-004', '201807-1205-003', '201810-1205-001',\n",
       "       '201905-1205-009', '201905-1205-003', '201905-1205-005',\n",
       "       '201812-1205-002', '202003-1205-005', '202001-1205-005',\n",
       "       '201911-1205-003', '201708-1205-003', '201811-1205-002',\n",
       "       '201807-1205-005', '201911-1205-008', '202001-1205-002',\n",
       "       '201907-1205-002', '201906-1205-002', '202001-1205-004',\n",
       "       '201509-1205-007', '201802-1205-001', '201811-1205-003',\n",
       "       '201909-1205-005', '201911-1205-005', '202003-1205-004',\n",
       "       '201906-1205-004', '201905-1205-008', '201912-1205-007',\n",
       "       '201911-1205-004', '202002-1205-001', '202002-1205-006',\n",
       "       '201909-1219-001', '201612-1219-004', '201707-1219-003',\n",
       "       '201708-1219-005', '201708-1219-004', '201904-1219-004',\n",
       "       '201910-1219-001', '201708-1219-001', '201910-1219-002',\n",
       "       '202002-1219-003', '201906-1219-001', '201702-1219-001',\n",
       "       '201909-1219-002', '201901-1219-002', '201901-1219-001',\n",
       "       '201612-1219-001', '201904-1219-006', '201809-1219-002',\n",
       "       '201910-1219-003', '201608-1219-002', '201705-1219-003',\n",
       "       '201612-1219-002', '201706-1219-004', '201901-1219-003',\n",
       "       '201904-1219-003', '201901-1219-008', '201707-1219-001',\n",
       "       '201710-1219-001', '201905-1219-002', '201901-1219-004',\n",
       "       '201905-1219-001', '201809-1219-005', '201611-1219-001',\n",
       "       '201901-1219-005', '201809-1219-001', '201705-1219-004',\n",
       "       '201801-1219-001', '201708-1219-002', '201803-1219-002',\n",
       "       '201803-1219-001', '201809-1219-004', '201701-1219-001',\n",
       "       '201708-1219-003', '201901-1219-006', '201706-1219-001',\n",
       "       '201901-1219-007', '201609-1219-002', '201906-1219-002',\n",
       "       '201905-1219-003', '201706-1219-002', '201611-1219-003',\n",
       "       '201910-1219-005', '201809-1219-003', '201905-1219-004',\n",
       "       '201707-1219-002', '201904-1219-005', '201905-1219-005',\n",
       "       '201406-1219-003', '201711-1219-001', '201702-1218-005',\n",
       "       '201809-1218-022', '201711-1218-004', '202001-1218-001',\n",
       "       '201809-1218-002', '201707-1218-003', '201611-1218-003',\n",
       "       '201708-1218-002', '201903-1218-008', '201810-1218-002',\n",
       "       '201506-1218-003', '201710-1218-004', '201807-1218-003',\n",
       "       '201909-1218-001', '201809-1218-023', '201704-1218-003',\n",
       "       '201811-1218-002', '201904-1218-002', '201708-1218-003',\n",
       "       '201903-1218-004', '201709-1218-001', '201903-1218-007',\n",
       "       '201809-1218-017', '201801-1218-004', '201707-1218-006',\n",
       "       '201809-1218-024', '201809-1218-025', '201912-1218-009',\n",
       "       '201805-1218-001', '201811-1218-003', '202002-1218-001',\n",
       "       '201810-1218-004', '201802-1218-001', '201703-1218-001',\n",
       "       '201809-1218-016', '201711-1218-001', '201710-1218-005',\n",
       "       '201912-1218-007', '202002-1218-007', '201905-1218-002',\n",
       "       '201809-1218-021', '201809-1218-019', '201809-1218-014',\n",
       "       '201912-1218-011', '201903-1218-005', '201912-1218-012',\n",
       "       '201809-1218-007', '202001-1218-002', '201904-1218-001',\n",
       "       '201611-1218-007', '201706-1218-003', '201910-1218-003',\n",
       "       '201908-1218-001', '201809-1218-003', '201806-1218-001',\n",
       "       '201608-1218-010', '201709-1218-002', '201912-1218-008',\n",
       "       '201707-1218-001', '201906-1218-002', '201612-1218-002',\n",
       "       '201806-1218-003', '201707-1218-002', '201802-1218-005',\n",
       "       '201805-1218-002', '201702-1218-001', '201911-1218-002',\n",
       "       '201802-1218-004', '201706-1218-006', '201804-1218-002',\n",
       "       '201704-1218-002', '201712-1218-003', '201710-1218-001',\n",
       "       '201804-1218-004', '201709-1218-004', '201706-1218-005',\n",
       "       '201908-1218-002', '201912-1218-006', '201706-1218-004',\n",
       "       '201711-1218-002', '201709-1218-005', '201712-1218-001',\n",
       "       '201903-1218-003', '201903-1218-009', '201707-1218-004',\n",
       "       '201909-1218-002', '201706-1218-002', '201611-1218-009',\n",
       "       '201801-1218-002', '201711-1218-003', '201804-1218-005',\n",
       "       '201702-1218-003', '201707-1218-005', '201805-1218-004',\n",
       "       '201908-1218-003', '202003-1218-002', '201804-1218-001',\n",
       "       '201809-1218-001', '201803-1218-001', '201902-1218-001',\n",
       "       '201801-1250-001', '201910-1250-003', '201906-1250-001',\n",
       "       '201904-1250-002', '201910-1250-004', '201809-1250-004',\n",
       "       '201909-1250-001', '201910-1250-002', '202004-1245-001',\n",
       "       '201901-1245-001', '201912-1245-001', '201808-1240-001',\n",
       "       '202004-1240-002', '201611-1240-004', '201902-1240-003',\n",
       "       '201910-1240-003', '201911-1240-005', '201901-1240-003',\n",
       "       '201709-1240-001', '201703-1240-006', '201803-1240-004',\n",
       "       '201611-1240-001', '201805-1240-007', '201910-1240-002',\n",
       "       '201803-1240-005', '202002-1240-004', '201701-1240-003',\n",
       "       '201908-1240-001', '201904-1240-001', '201812-1240-003',\n",
       "       '202003-1240-003', '202004-1240-004', '201609-1240-001',\n",
       "       '202002-1240-006', '202002-1240-007', '201807-1240-001',\n",
       "       '201611-1240-005', '201607-1240-001', '201710-1240-003',\n",
       "       '201702-1240-001', '202002-1240-011', '201909-1240-001',\n",
       "       '201911-1240-002', '201611-1240-002', '202003-1240-004',\n",
       "       '201703-1240-002', '201703-1240-001', '202002-1240-012',\n",
       "       '201712-1240-003', '201708-1240-001', '201703-1240-003',\n",
       "       '201803-1240-001', '201803-1240-002', '202002-1240-010',\n",
       "       '201706-1240-002', '202003-1240-005', '201902-1240-002',\n",
       "       '201903-1240-001', '201903-1240-003', '201902-1240-001',\n",
       "       '201811-1240-002', '201903-1240-004', '201901-1240-008',\n",
       "       '201910-1240-001', '201907-1240-002', '201906-1293-003',\n",
       "       '201710-1293-001', '201906-1293-001', '201812-1293-001',\n",
       "       '201811-1293-002', '201710-1290-001', '202001-1290-002',\n",
       "       '201802-1290-003', '201706-1290-001', '201907-1290-001',\n",
       "       '201801-1290-002', '201903-1290-002', '201802-1290-001',\n",
       "       '201804-1290-001', '201801-1290-001', '201805-1290-002',\n",
       "       '201805-1290-001', '201902-1290-001', '201812-1290-001',\n",
       "       '201811-1290-002', '201811-1290-001', '201905-1290-001',\n",
       "       '201903-1290-003', '202005-1290-001', '201911-1290-001',\n",
       "       '201909-1290-001', '202002-1235-001', '201701-1235-002',\n",
       "       '201910-1235-001', '201701-1235-003', '201701-1235-001',\n",
       "       '201907-1235-002', '201707-1235-001', '201705-1235-001',\n",
       "       '201612-1235-001', '201909-1235-001', '201907-1235-001',\n",
       "       '202005-1235-001', '201905-1235-002', '201809-1235-001',\n",
       "       '201909-1235-002', '202003-1235-002', '202005-1235-002',\n",
       "       '201709-1210-001', '201906-1210-010', '202003-1210-005',\n",
       "       '201707-1210-002', '201909-1210-005', '202001-1210-001',\n",
       "       '201904-1210-001', '201906-1210-003', '201708-1210-003',\n",
       "       '201706-1210-003', '202002-1210-002', '201908-1210-003',\n",
       "       '201906-1210-002', '201805-1210-001', '202002-1210-003',\n",
       "       '201901-1210-001', '201808-1210-004', '201805-1210-002',\n",
       "       '201901-1210-002', '201708-1210-001', '201901-1210-005',\n",
       "       '201810-1210-004', '201906-1210-005', '202002-1210-001',\n",
       "       '201906-1210-001', '201706-1210-002', '201901-1210-004',\n",
       "       '201904-1210-002', '201901-1210-003', '202003-1210-001',\n",
       "       '201707-1210-001', '201801-1210-002', '202002-1210-004',\n",
       "       '201805-1210-003', '201809-1210-002', '201904-1210-004',\n",
       "       '201807-1210-001', '201809-1210-003', '201908-1210-004',\n",
       "       '201801-1210-001', '201805-1210-004', '202004-1210-004',\n",
       "       '201809-1210-001', '201906-1210-008', '201803-1210-002',\n",
       "       '201810-1210-003', '201909-1210-007', '201908-1210-006',\n",
       "       '201906-1210-009', '201701-1210-006', '201803-1210-003',\n",
       "       '201711-1210-001', '201902-1210-002', '201909-1210-008',\n",
       "       '201706-1210-001', '201902-1210-003', '201902-1210-005',\n",
       "       '201902-1210-004', '201902-1210-006', '201908-1210-002',\n",
       "       '201708-1210-002', '201912-1210-002', '201904-1210-003',\n",
       "       '202002-1210-005', '201803-1210-001', '201902-1210-001',\n",
       "       '201906-1210-004', '201905-1210-001', '201912-1210-001'],\n",
       "      dtype=object)"
      ]
     },
     "execution_count": 55,
     "metadata": {},
     "output_type": "execute_result"
    }
   ],
   "source": [
    "inventory_df.icr_reference_number.values"
   ]
  },
  {
   "cell_type": "code",
   "execution_count": 59,
   "metadata": {},
   "outputs": [],
   "source": [
    "pd.DataFrame(inventory_df.icr_reference_number.values,columns=['icr_reference_number']).to_csv('icr_numbers.csv')"
   ]
  },
  {
   "cell_type": "code",
   "execution_count": 60,
   "metadata": {},
   "outputs": [
    {
     "data": {
      "text/plain": [
       "'/home/jupyter-ed/projects/pra/data/01_database'"
      ]
     },
     "execution_count": 60,
     "metadata": {},
     "output_type": "execute_result"
    }
   ],
   "source": [
    "os.getcwd()"
   ]
  },
  {
   "cell_type": "code",
   "execution_count": 62,
   "metadata": {},
   "outputs": [
    {
     "data": {
      "text/plain": [
       "474"
      ]
     },
     "execution_count": 62,
     "metadata": {},
     "output_type": "execute_result"
    }
   ],
   "source": [
    "len(list(inventory_df.icr_reference_number.values))"
   ]
  },
  {
   "cell_type": "code",
   "execution_count": null,
   "metadata": {},
   "outputs": [],
   "source": []
  }
 ],
 "metadata": {
  "kernelspec": {
   "display_name": "Python 3",
   "language": "python",
   "name": "python3"
  },
  "language_info": {
   "codemirror_mode": {
    "name": "ipython",
    "version": 3
   },
   "file_extension": ".py",
   "mimetype": "text/x-python",
   "name": "python",
   "nbconvert_exporter": "python",
   "pygments_lexer": "ipython3",
   "version": "3.7.6"
  }
 },
 "nbformat": 4,
 "nbformat_minor": 4
}
