{
 "cells": [
  {
   "cell_type": "markdown",
   "metadata": {},
   "source": [
    "THis is  a page to write a script to extract notice information from reginfo.gov icr pages and submission date"
   ]
  },
  {
   "cell_type": "code",
   "execution_count": 59,
   "metadata": {},
   "outputs": [],
   "source": [
    "import requests\n",
    "from bs4 import BeautifulSoup \n",
    "import csv\n",
    "import datetime \n",
    "from csv import reader\n",
    "import os \n",
    "import pandas as pd \n",
    "import pycurl\n",
    "import time\n",
    "import glob\n",
    "import sqlite3"
   ]
  },
  {
   "cell_type": "code",
   "execution_count": 2,
   "metadata": {},
   "outputs": [
    {
     "data": {
      "text/plain": [
       "'/home/jupyter-ed/projects/pra/scripts/EDA'"
      ]
     },
     "execution_count": 2,
     "metadata": {},
     "output_type": "execute_result"
    }
   ],
   "source": [
    "os.getcwd()"
   ]
  },
  {
   "cell_type": "code",
   "execution_count": 3,
   "metadata": {},
   "outputs": [
    {
     "data": {
      "text/plain": [
       "['notices_1235-0015.json',\n",
       " '.ipynb_checkpoints',\n",
       " 'icr_numbers.csv',\n",
       " 'pending_eda.ipynb',\n",
       " 'notice_2020-07-29',\n",
       " 'html',\n",
       " 'icr_html_noticedate.ipynb',\n",
       " 'history_eda.ipynb',\n",
       " 'connect_to_postgres_database_and_add_a_df_as_table.ipynb',\n",
       " 'todo_for_open_loop_report.ipynb',\n",
       " 'notice_2020-07-28']"
      ]
     },
     "execution_count": 3,
     "metadata": {},
     "output_type": "execute_result"
    }
   ],
   "source": [
    "os.listdir()"
   ]
  },
  {
   "cell_type": "code",
   "execution_count": 4,
   "metadata": {},
   "outputs": [],
   "source": [
    "os.chdir('/home/jupyter-ed/projects/pra/scripts/EDA')"
   ]
  },
  {
   "cell_type": "code",
   "execution_count": 5,
   "metadata": {},
   "outputs": [],
   "source": [
    "\n",
    "\n",
    "# generate the list of links\n",
    "def link_slug_add(link):\n",
    "  pagelink = 'https://www.reginfo.gov/public/do/PRAViewICR?ref_nbr='+str.strip(link)\n",
    "  return(pagelink)\n",
    "  \n",
    "    \n",
    "def icr_link_list_creator(icr_number_list):\n",
    "    icr_url_list = []\n",
    "    for number in icr_number_list:\n",
    "        reg_info_url = link_slug_add(number)\n",
    "        icr_url_list.append(reg_info_url)    \n",
    "    return(icr_url_list)\n",
    "    \n",
    "# create the new folder for the days html files\n",
    "\n",
    "def create_icr_html_folder():\n",
    "    folder_name = datetime.datetime.now().strftime('icr_folder_%Y-%m-%d')   \n",
    "    os.chdir('/home/jupyter-ed/projects/pra/data/history')\n",
    "    # define the name of the directory to be created\n",
    "    os.mkdir(folder_name)\n",
    "    os.chdir(folder_name)\n",
    "     \n",
    "# download all the files to the folder\n",
    "def get_icr_html_file(url,icr_number):\n",
    "    filename = icr_number +'.html'    \n",
    "    file = open(filename,'wb')\n",
    "    crl = pycurl.Curl()\n",
    "    crl.setopt(crl.URL, url)\n",
    "    crl.setopt(crl.WRITEDATA, file)\n",
    "    crl.perform()\n",
    "    crl.close()\n",
    "\n",
    "def hmtl_down_from_cntrl_number_list(omb_cntrl_number_list,omb_history_url_list):\n",
    "    list_range = range(len(omb_cntrl_number_list))\n",
    "    for number in list_range:\n",
    "        omb_cntrl_instance = omb_cntrl_number_list[number]\n",
    "        praurl = omb_history_url_list[number]\n",
    "        get_icr_html_file(praurl,omb_cntrl_instance) \n",
    "        time.sleep(3)\n",
    "    \n",
    "    \n",
    "    "
   ]
  },
  {
   "cell_type": "markdown",
   "metadata": {},
   "source": [
    "csv_file = 'icr_numbers.csv'\n",
    "\n",
    "icr_number_csv = pd.read_csv(csv_file)\n"
   ]
  },
  {
   "cell_type": "markdown",
   "metadata": {},
   "source": [
    "icr_number_csv.columns"
   ]
  },
  {
   "cell_type": "markdown",
   "metadata": {},
   "source": [
    "icr_number_list = list(icr_number_csv.icr_reference_number.values)\n",
    "    \n",
    "    \n",
    "icr_url_list = icr_link_list_creator(icr_number_list)   \n",
    "    \n",
    "print('url list created')"
   ]
  },
  {
   "cell_type": "markdown",
   "metadata": {},
   "source": [
    "\n",
    "print(os.getcwd)     \n",
    "create_icr_html_folder()    \n",
    "print(os.getcwd) "
   ]
  },
  {
   "cell_type": "markdown",
   "metadata": {},
   "source": [
    "\n",
    "   \n",
    "    \n",
    "\n",
    "    \n",
    "\n",
    "     \n",
    "    \n",
    "    \n",
    "hmtl_down_from_cntrl_number_list(icr_number_list,icr_url_list)    \n",
    "\n",
    "print('html files downloaded') "
   ]
  },
  {
   "cell_type": "code",
   "execution_count": 6,
   "metadata": {},
   "outputs": [],
   "source": [
    "# going to move files into the html folder in the eda folder"
   ]
  },
  {
   "cell_type": "code",
   "execution_count": 7,
   "metadata": {},
   "outputs": [],
   "source": [
    "#jupyter-ed@jupyterhubtestdaily:~/projects/pra/scripts/EDA/html$ mv *.html /home/jupyter-ed/projects/pra/scripts/EDA/html# "
   ]
  },
  {
   "cell_type": "code",
   "execution_count": 8,
   "metadata": {},
   "outputs": [],
   "source": [
    "folder_for_html = '/home/jupyter-ed/projects/pra/scripts/EDA/html'"
   ]
  },
  {
   "cell_type": "code",
   "execution_count": 9,
   "metadata": {},
   "outputs": [],
   "source": [
    "os.chdir(folder_for_html)"
   ]
  },
  {
   "cell_type": "code",
   "execution_count": 10,
   "metadata": {},
   "outputs": [],
   "source": [
    "html_files = os.listdir()"
   ]
  },
  {
   "cell_type": "code",
   "execution_count": 11,
   "metadata": {},
   "outputs": [],
   "source": [
    "html_file= html_files[0]"
   ]
  },
  {
   "cell_type": "code",
   "execution_count": 12,
   "metadata": {},
   "outputs": [
    {
     "data": {
      "text/plain": [
       "'201809-1219-005.html'"
      ]
     },
     "execution_count": 12,
     "metadata": {},
     "output_type": "execute_result"
    }
   ],
   "source": [
    "html_file"
   ]
  },
  {
   "cell_type": "code",
   "execution_count": 13,
   "metadata": {},
   "outputs": [
    {
     "name": "stdout",
     "output_type": "stream",
     "text": [
      "3\n",
      "83 FR 33252\n",
      "07/17/2018\n"
     ]
    }
   ],
   "source": [
    "with open(html_file, 'r') as f:\n",
    "\n",
    "    contents = f.read()\n",
    "\n",
    "    soup = BeautifulSoup(contents, 'lxml')\n",
    "\n",
    "    #print(soup.h2)\n",
    "    #print(soup.head)\n",
    "    ombcntrl_table = soup.find('div',{'id':'section5'})\n",
    "    #print(ombcntrl_table)\n",
    "    rows = ombcntrl_table.findAll('tr')\n",
    "    #print(len(rows))\n",
    "    notice_60_day = rows[2]\n",
    "    #print(notice_60_day)\n",
    "    cells = notice_60_day.findAll('td')\n",
    "    print(len(cells))\n",
    "    #print(cells)\n",
    "    print(cells[1].getText(strip='True'))\n",
    "    print(cells[2].getText(strip='True'))\n",
    "    #for cell in cells:\n",
    "    #    try:\n",
    "    #        print(cell.getText())\n",
    "    #    except:\n",
    "    #        print(\"no text\")"
   ]
  },
  {
   "cell_type": "code",
   "execution_count": 14,
   "metadata": {},
   "outputs": [],
   "source": [
    "def get_notice_date(html_file):\n",
    "    with open(html_file, 'r') as f:\n",
    "        contents = f.read()\n",
    "        soup = BeautifulSoup(contents, 'lxml')\n",
    "        section5 = soup.find('div',{'id':'section5'})\n",
    "        rows = section5.findAll('tr')\n",
    "        row_60_day_notice = rows[2]\n",
    "        cells = row_60_day_notice.findAll('td')\n",
    "        data_row = [html_file,cells[1].getText(strip='True'),cells[2].getText(strip='True')]\n",
    "        return(data_row)"
   ]
  },
  {
   "cell_type": "code",
   "execution_count": 15,
   "metadata": {},
   "outputs": [],
   "source": [
    "test = get_notice_date(html_file)"
   ]
  },
  {
   "cell_type": "code",
   "execution_count": 16,
   "metadata": {},
   "outputs": [
    {
     "name": "stdout",
     "output_type": "stream",
     "text": [
      "['201809-1219-005.html', '83 FR 33252', '07/17/2018']\n"
     ]
    }
   ],
   "source": [
    "print(test)"
   ]
  },
  {
   "cell_type": "code",
   "execution_count": 18,
   "metadata": {},
   "outputs": [
    {
     "ename": "IndexError",
     "evalue": "list index out of range",
     "output_type": "error",
     "traceback": [
      "\u001b[0;31m---------------------------------------------------------------------------\u001b[0m",
      "\u001b[0;31mIndexError\u001b[0m                                Traceback (most recent call last)",
      "\u001b[0;32m<ipython-input-18-28ff821f0eda>\u001b[0m in \u001b[0;36m<module>\u001b[0;34m\u001b[0m\n\u001b[1;32m      8\u001b[0m     \u001b[0mrow_60_day_notice\u001b[0m \u001b[0;34m=\u001b[0m \u001b[0mrows\u001b[0m\u001b[0;34m[\u001b[0m\u001b[0;36m2\u001b[0m\u001b[0;34m]\u001b[0m\u001b[0;34m\u001b[0m\u001b[0;34m\u001b[0m\u001b[0m\n\u001b[1;32m      9\u001b[0m     \u001b[0mcells\u001b[0m \u001b[0;34m=\u001b[0m \u001b[0mrow_60_day_notice\u001b[0m\u001b[0;34m.\u001b[0m\u001b[0mfindAll\u001b[0m\u001b[0;34m(\u001b[0m\u001b[0;34m'td'\u001b[0m\u001b[0;34m)\u001b[0m\u001b[0;34m\u001b[0m\u001b[0;34m\u001b[0m\u001b[0m\n\u001b[0;32m---> 10\u001b[0;31m     \u001b[0mdata_row\u001b[0m \u001b[0;34m=\u001b[0m \u001b[0;34m[\u001b[0m\u001b[0mhtml_file\u001b[0m\u001b[0;34m,\u001b[0m\u001b[0mcells\u001b[0m\u001b[0;34m[\u001b[0m\u001b[0;36m1\u001b[0m\u001b[0;34m]\u001b[0m\u001b[0;34m.\u001b[0m\u001b[0mgetText\u001b[0m\u001b[0;34m(\u001b[0m\u001b[0mstrip\u001b[0m\u001b[0;34m=\u001b[0m\u001b[0;34m'True'\u001b[0m\u001b[0;34m)\u001b[0m\u001b[0;34m,\u001b[0m\u001b[0mcells\u001b[0m\u001b[0;34m[\u001b[0m\u001b[0;36m2\u001b[0m\u001b[0;34m]\u001b[0m\u001b[0;34m.\u001b[0m\u001b[0mgetText\u001b[0m\u001b[0;34m(\u001b[0m\u001b[0mstrip\u001b[0m\u001b[0;34m=\u001b[0m\u001b[0;34m'True'\u001b[0m\u001b[0;34m)\u001b[0m\u001b[0;34m]\u001b[0m\u001b[0;34m\u001b[0m\u001b[0;34m\u001b[0m\u001b[0m\n\u001b[0m\u001b[1;32m     11\u001b[0m     \u001b[0mprint\u001b[0m\u001b[0;34m(\u001b[0m\u001b[0mdata_row\u001b[0m\u001b[0;34m)\u001b[0m\u001b[0;34m\u001b[0m\u001b[0;34m\u001b[0m\u001b[0m\n",
      "\u001b[0;31mIndexError\u001b[0m: list index out of range"
     ]
    }
   ],
   "source": [
    "#def get_notice_date(html_file):\n",
    "with open(html_file, 'r') as f:\n",
    "    contents = f.read()\n",
    "    soup = BeautifulSoup(contents, 'lxml')\n",
    "    section1 = soup.find('div',{'id':'section1'})\n",
    "    table = section1.find('table',{'class':'generalTxt'})\n",
    "    rows = table.findAll('tr')\n",
    "    row_60_day_notice = rows[2]\n",
    "    cells = row_60_day_notice.findAll('td')\n",
    "    data_row = [html_file,cells[1].getText(strip='True'),cells[2].getText(strip='True')]\n",
    "    print(data_row)"
   ]
  },
  {
   "cell_type": "code",
   "execution_count": 19,
   "metadata": {},
   "outputs": [
    {
     "name": "stdout",
     "output_type": "stream",
     "text": [
      "9\n"
     ]
    }
   ],
   "source": [
    "#def get_notice_date(html_file):\n",
    "list_of_rows = []\n",
    "\n",
    "with open(html_file, 'r') as f:\n",
    "    contents = f.read()\n",
    "    soup = BeautifulSoup(contents, 'lxml')\n",
    "    section1 = soup.find('div',{'id':'section1'})\n",
    "    table = section1.find('table',{'class':'generalTxt'})\n",
    "    rows = table.findAll('tr')\n",
    "    print(len(rows))\n",
    "    for row in rows:\n",
    "        list_of_rows.append(row.findAll('td'))    \n",
    "        "
   ]
  },
  {
   "cell_type": "code",
   "execution_count": 20,
   "metadata": {},
   "outputs": [
    {
     "data": {
      "text/plain": [
       "9"
      ]
     },
     "execution_count": 20,
     "metadata": {},
     "output_type": "execute_result"
    }
   ],
   "source": [
    "len(list_of_rows)"
   ]
  },
  {
   "cell_type": "code",
   "execution_count": 21,
   "metadata": {},
   "outputs": [
    {
     "data": {
      "text/plain": [
       "'\\nPrevious ICR Reference No:\\n201406-1219-005\\n'"
      ]
     },
     "execution_count": 21,
     "metadata": {},
     "output_type": "execute_result"
    }
   ],
   "source": [
    "list_of_rows[1][1].getText()"
   ]
  },
  {
   "cell_type": "code",
   "execution_count": 22,
   "metadata": {},
   "outputs": [
    {
     "name": "stdout",
     "output_type": "stream",
     "text": [
      "2\n",
      "2\n",
      "2\n",
      "1\n",
      "2\n",
      "2\n",
      "2\n",
      "2\n",
      "1\n"
     ]
    }
   ],
   "source": [
    "for thing in list_of_rows:\n",
    "    print(len(thing))"
   ]
  },
  {
   "cell_type": "code",
   "execution_count": 23,
   "metadata": {},
   "outputs": [
    {
     "ename": "NameError",
     "evalue": "name 'row1' is not defined",
     "output_type": "error",
     "traceback": [
      "\u001b[0;31m---------------------------------------------------------------------------\u001b[0m",
      "\u001b[0;31mNameError\u001b[0m                                 Traceback (most recent call last)",
      "\u001b[0;32m<ipython-input-23-a3d5878936b8>\u001b[0m in \u001b[0;36m<module>\u001b[0;34m\u001b[0m\n\u001b[0;32m----> 1\u001b[0;31m \u001b[0mrow1\u001b[0m\u001b[0;34m\u001b[0m\u001b[0;34m\u001b[0m\u001b[0m\n\u001b[0m",
      "\u001b[0;31mNameError\u001b[0m: name 'row1' is not defined"
     ]
    }
   ],
   "source": [
    "row1 "
   ]
  },
  {
   "cell_type": "code",
   "execution_count": 24,
   "metadata": {},
   "outputs": [
    {
     "data": {
      "text/plain": [
       "'OMB Control No:1219-0088'"
      ]
     },
     "execution_count": 24,
     "metadata": {},
     "output_type": "execute_result"
    }
   ],
   "source": [
    "#<label>OMB Control No:</label>\n",
    "list_of_rows[0][0].getText(strip='True')"
   ]
  },
  {
   "cell_type": "code",
   "execution_count": 25,
   "metadata": {},
   "outputs": [
    {
     "data": {
      "text/plain": [
       "'ICR Reference No:201809-1219-005'"
      ]
     },
     "execution_count": 25,
     "metadata": {},
     "output_type": "execute_result"
    }
   ],
   "source": [
    "#<label>ICR Reference No:</label>\n",
    "list_of_rows[0][1].getText(strip='True')"
   ]
  },
  {
   "cell_type": "code",
   "execution_count": 26,
   "metadata": {},
   "outputs": [
    {
     "data": {
      "text/plain": [
       "<td width=\"50%\">\n",
       "<label>Status:</label>\n",
       "\t\t\t\t\t\t\t\t\t\t\t\t\t\t\t\t\t\t\t\tActive\n",
       "\t\t\t\t\t\t\t\t\t\t\t\t\t\t\t\t\t\t\t</td>"
      ]
     },
     "execution_count": 26,
     "metadata": {},
     "output_type": "execute_result"
    }
   ],
   "source": [
    "#<label>Status:</label>\n",
    "list_of_rows[1][0]"
   ]
  },
  {
   "cell_type": "markdown",
   "metadata": {},
   "source": [
    "<label>Previous ICR Reference No:</label>"
   ]
  },
  {
   "cell_type": "code",
   "execution_count": 27,
   "metadata": {},
   "outputs": [
    {
     "data": {
      "text/plain": [
       "<td width=\"50%\">\n",
       "<label>Previous ICR Reference No:</label>\n",
       "<a aria-label=\"Previous ICR Reference No\" href=\"/public/do/PRAViewICR?ref_nbr=201406-1219-005\">201406-1219-005</a>\n",
       "</td>"
      ]
     },
     "execution_count": 27,
     "metadata": {},
     "output_type": "execute_result"
    }
   ],
   "source": [
    "list_of_rows[1][1]"
   ]
  },
  {
   "cell_type": "code",
   "execution_count": 28,
   "metadata": {},
   "outputs": [
    {
     "data": {
      "text/plain": [
       "<td width=\"50%\">\n",
       "<label>Agency/Subagency:</label>\n",
       "\t\t\t\t\t\t\t\t\t\t\t\t\t\t\t\t\t\t\t\tDOL/MSHA\n",
       "\t\t\t\t\t\t\t\t\t\t\t\t\t\t\t\t\t\t\t</td>"
      ]
     },
     "execution_count": 28,
     "metadata": {},
     "output_type": "execute_result"
    }
   ],
   "source": [
    "list_of_rows[2][0]"
   ]
  },
  {
   "cell_type": "code",
   "execution_count": 29,
   "metadata": {},
   "outputs": [
    {
     "data": {
      "text/plain": [
       "<td width=\"50%\">\n",
       "<label>Agency Tracking No:</label>\n",
       "</td>"
      ]
     },
     "execution_count": 29,
     "metadata": {},
     "output_type": "execute_result"
    }
   ],
   "source": [
    "list_of_rows[2][1]"
   ]
  },
  {
   "cell_type": "code",
   "execution_count": 30,
   "metadata": {},
   "outputs": [
    {
     "data": {
      "text/plain": [
       "<td colspan=\"2\">\n",
       "<label>Title:</label>\n",
       "\t\t\t\t\t\t\t\t\t\t\t\t\t\t\t\t\t\t\t    Ventilation Plans, Tests, and Examinations in Underground Coal Mines\n",
       "\t\t\t\t\t\t\t\t\t\t\t\t\t\t\t\t\t\t\t</td>"
      ]
     },
     "execution_count": 30,
     "metadata": {},
     "output_type": "execute_result"
    }
   ],
   "source": [
    "list_of_rows[3][0]"
   ]
  },
  {
   "cell_type": "code",
   "execution_count": 31,
   "metadata": {},
   "outputs": [
    {
     "data": {
      "text/plain": [
       "<td width=\"50%\">\n",
       "<label>Type of Information Collection:</label>\n",
       "\t\t\t\t\t\t\t\t\t\t\t\t\t\t\t\t\t\t\t\tExtension without change of a currently approved collection\n",
       "\t\t\t\t\t\t\t\t\t\t\t\t\t\t\t\t\t\t\t</td>"
      ]
     },
     "execution_count": 31,
     "metadata": {},
     "output_type": "execute_result"
    }
   ],
   "source": [
    "list_of_rows[4][0]"
   ]
  },
  {
   "cell_type": "code",
   "execution_count": 32,
   "metadata": {},
   "outputs": [
    {
     "data": {
      "text/plain": [
       "<td width=\"50%\">\n",
       "<label>Common Form ICR:</label> \n",
       "\t\t\t\t\t\t\t\t\t\t\t\t\t\t\t\t\t\t\t\t\n",
       "\t\t\t\t\t\t\t\t\t\t\t\t\t\t\t\t\t\t        \n",
       "\t\t\t\t\t\t\t\t\t\t\t\t\t\t\t\t\t\t           No\n",
       "\t\t\t\t\t\t\t\t\t\t\t\t\t\t\t\t\t\t        \n",
       "\t\t\t\t\t\t\t\t\t\t\t\t\t\t\t\t\t\t\t</td>"
      ]
     },
     "execution_count": 32,
     "metadata": {},
     "output_type": "execute_result"
    }
   ],
   "source": [
    "list_of_rows[4][1]"
   ]
  },
  {
   "cell_type": "code",
   "execution_count": 33,
   "metadata": {},
   "outputs": [
    {
     "data": {
      "text/plain": [
       "<td width=\"50%\">\n",
       "<label>Type of Review Request:</label>\n",
       "\t\t\t\t\t\t\t\t\t\t\t\t\t\t\t\t\t\t\t\tRegular\n",
       "\t\t\t\t\t\t\t\t\t\t\t\t\t\t\t\t\t\t\t</td>"
      ]
     },
     "execution_count": 33,
     "metadata": {},
     "output_type": "execute_result"
    }
   ],
   "source": [
    "list_of_rows[5][0]"
   ]
  },
  {
   "cell_type": "code",
   "execution_count": 34,
   "metadata": {},
   "outputs": [
    {
     "data": {
      "text/plain": [
       "<td width=\"50%\">\n",
       "</td>"
      ]
     },
     "execution_count": 34,
     "metadata": {},
     "output_type": "execute_result"
    }
   ],
   "source": [
    "list_of_rows[5][1]"
   ]
  },
  {
   "cell_type": "code",
   "execution_count": 35,
   "metadata": {},
   "outputs": [
    {
     "data": {
      "text/plain": [
       "<td width=\"50%\">\n",
       "<label>OIRA Conclusion Action:</label>\n",
       "\t\t\t\t\t\t\t\t\t\t\t\t\t\t\t\t\t\t\t\t\tApproved without change\n",
       "\t\t\t\t\t\t\t\t\t\t\t\t\t\t\t\t\t\t\t</td>"
      ]
     },
     "execution_count": 35,
     "metadata": {},
     "output_type": "execute_result"
    }
   ],
   "source": [
    "list_of_rows[6][0]"
   ]
  },
  {
   "cell_type": "code",
   "execution_count": 36,
   "metadata": {},
   "outputs": [
    {
     "data": {
      "text/plain": [
       "<td width=\"50%\">\n",
       "<label>Conclusion Date:</label>\n",
       "\t\t\t\t\t\t\t\t\t\t\t\t\t\t\t\t\t\t\t\t02/12/2019\n",
       "\t\t\t\t\t\t\t\t\t\t\t\t\t\t\t\t\t\t\t</td>"
      ]
     },
     "execution_count": 36,
     "metadata": {},
     "output_type": "execute_result"
    }
   ],
   "source": [
    "list_of_rows[6][1]"
   ]
  },
  {
   "cell_type": "code",
   "execution_count": 37,
   "metadata": {},
   "outputs": [
    {
     "data": {
      "text/plain": [
       "<td width=\"50%\">\n",
       "<a href=\"#\" onclick=\"openNOA(292618)\">Retrieve Notice of Action (NOA)</a>\n",
       "</td>"
      ]
     },
     "execution_count": 37,
     "metadata": {},
     "output_type": "execute_result"
    }
   ],
   "source": [
    "list_of_rows[7][0]"
   ]
  },
  {
   "cell_type": "code",
   "execution_count": 38,
   "metadata": {},
   "outputs": [
    {
     "data": {
      "text/plain": [
       "'Date Received in OIRA:11/30/2018'"
      ]
     },
     "execution_count": 38,
     "metadata": {},
     "output_type": "execute_result"
    }
   ],
   "source": [
    "#<label>Date Received in OIRA: </label>\n",
    "\n",
    "list_of_rows[7][1].getText(strip='True')"
   ]
  },
  {
   "cell_type": "code",
   "execution_count": 39,
   "metadata": {},
   "outputs": [
    {
     "data": {
      "text/plain": [
       "<td colspan=\"2\">\n",
       "<label>Terms of Clearance:</label>\n",
       "</td>"
      ]
     },
     "execution_count": 39,
     "metadata": {},
     "output_type": "execute_result"
    }
   ],
   "source": [
    "list_of_rows[8][0]"
   ]
  },
  {
   "cell_type": "markdown",
   "metadata": {},
   "source": [
    "All i need right now is the 60 day notice date, the submission , ombcontrol and the icr number"
   ]
  },
  {
   "cell_type": "code",
   "execution_count": 40,
   "metadata": {},
   "outputs": [],
   "source": [
    "def get_section1_info_list(html_file):\n",
    "    list_of_rows = []\n",
    "    \n",
    "    with open(html_file, 'r') as f:\n",
    "        contents = f.read()\n",
    "        soup = BeautifulSoup(contents, 'lxml')\n",
    "        section1 = soup.find('div',{'id':'section1'})\n",
    "        table = section1.find('table',{'class':'generalTxt'})\n",
    "        rows = table.findAll('tr')\n",
    "        for row in rows:\n",
    "            list_of_rows.append(row.findAll('td'))   \n",
    "    return(list_of_rows)   \n",
    "    "
   ]
  },
  {
   "cell_type": "code",
   "execution_count": 41,
   "metadata": {},
   "outputs": [],
   "source": [
    "def section1_info_extractor(list_of_rows):\n",
    "        #<label>OMB Control No:</label>\n",
    "        omb_control_number = list_of_rows[0][0].getText(strip='True')\n",
    "        #<label>ICR Reference No:</label>\n",
    "        icr_reference_number = list_of_rows[0][1].getText(strip='True')        \n",
    "        #<label>Date Received in OIRA: </label>\n",
    "        submited_to_oira_date = list_of_rows[7][1].getText(strip='True') \n",
    "        previous_icr = list_of_rows[1][1].getText(strip='True')\n",
    "        section1_list = [omb_control_number,icr_reference_number,submited_to_oira_date,previous_icr]\n",
    "        return(section1_list)\n",
    "        "
   ]
  },
  {
   "cell_type": "code",
   "execution_count": 42,
   "metadata": {},
   "outputs": [],
   "source": [
    "def get_notice_date(html_file):\n",
    "    with open(html_file, 'r') as f:\n",
    "        contents = f.read()\n",
    "        soup = BeautifulSoup(contents, 'lxml')\n",
    "        section5 = soup.find('div',{'id':'section5'})\n",
    "        rows = section5.findAll('tr')\n",
    "        row_60_day_notice = rows[2]\n",
    "        cells = row_60_day_notice.findAll('td')\n",
    "        data_row = [cells[1].getText(strip='True'),cells[2].getText(strip='True')]\n",
    "        return(data_row)"
   ]
  },
  {
   "cell_type": "code",
   "execution_count": 43,
   "metadata": {},
   "outputs": [],
   "source": [
    "list_of_rows = get_section1_info_list(html_file)\n",
    "section1_list = section1_info_extractor(list_of_rows)\n",
    "notice_data_row = get_notice_date(html_file)\n",
    "section1_list.extend(notice_data_row)\n",
    "\n",
    "\n"
   ]
  },
  {
   "cell_type": "code",
   "execution_count": 44,
   "metadata": {},
   "outputs": [
    {
     "data": {
      "text/plain": [
       "['OMB Control No:1219-0088',\n",
       " 'ICR Reference No:201809-1219-005',\n",
       " 'Date Received in OIRA:11/30/2018',\n",
       " 'Previous ICR Reference No:201406-1219-005',\n",
       " '83 FR 33252',\n",
       " '07/17/2018']"
      ]
     },
     "execution_count": 44,
     "metadata": {},
     "output_type": "execute_result"
    }
   ],
   "source": [
    "section1_list"
   ]
  },
  {
   "cell_type": "code",
   "execution_count": 45,
   "metadata": {},
   "outputs": [
    {
     "data": {
      "text/plain": [
       "'1219-0088'"
      ]
     },
     "execution_count": 45,
     "metadata": {},
     "output_type": "execute_result"
    }
   ],
   "source": [
    "section1_list[0].split(':')[1]"
   ]
  },
  {
   "cell_type": "markdown",
   "metadata": {},
   "source": [
    "'OMB Control No:,'ICR Reference No: 'Date Received in OIRA:, citiation date, publication date"
   ]
  },
  {
   "cell_type": "code",
   "execution_count": 46,
   "metadata": {},
   "outputs": [
    {
     "data": {
      "text/plain": [
       "['1219-0088',\n",
       " '201809-1219-005',\n",
       " '11/30/2018',\n",
       " '201406-1219-005',\n",
       " '83 FR 33252',\n",
       " '07/17/2018']"
      ]
     },
     "execution_count": 46,
     "metadata": {},
     "output_type": "execute_result"
    }
   ],
   "source": [
    "[section1_list[0].split(':')[1],\n",
    " section1_list[1].split(':')[1],\n",
    " section1_list[2].split(':')[1],\n",
    " section1_list[3].split(':')[1],\n",
    " section1_list[4],\n",
    " section1_list[5]]"
   ]
  },
  {
   "cell_type": "markdown",
   "metadata": {},
   "source": [
    "pusedo code\n",
    "\n",
    "for each html file\n",
    "create the data row\n",
    "add the data row to a list\n",
    "\n",
    "\n",
    "create pandas dataframe\n",
    "insert into sqlitedb\n",
    "\n",
    "\n",
    "\n",
    "\n",
    "\n",
    "\n",
    "\n",
    "\n",
    "\n",
    "\n",
    "\n"
   ]
  },
  {
   "cell_type": "code",
   "execution_count": 47,
   "metadata": {},
   "outputs": [],
   "source": [
    "def icr_page_info_extractor(html_file):\n",
    "    list_of_rows = get_section1_info_list(html_file)\n",
    "    section1_list = section1_info_extractor(list_of_rows)\n",
    "    notice_data_row = get_notice_date(html_file)\n",
    "    section1_list.extend(notice_data_row)\n",
    "    icr_notice_data_row = [section1_list[0].split(':')[1],\n",
    "                           section1_list[1].split(':')[1],\n",
    "                           section1_list[2].split(':')[1],\n",
    "                           section1_list[3].split(':')[1],\n",
    "                           section1_list[4],\n",
    "                           section1_list[5]]\n",
    "    return(icr_notice_data_row)\n",
    "    \n",
    "\n",
    "\n"
   ]
  },
  {
   "cell_type": "code",
   "execution_count": null,
   "metadata": {},
   "outputs": [],
   "source": []
  },
  {
   "cell_type": "code",
   "execution_count": 50,
   "metadata": {},
   "outputs": [
    {
     "data": {
      "text/plain": [
       "'/home/jupyter-ed/projects/pra/scripts/EDA/html'"
      ]
     },
     "execution_count": 50,
     "metadata": {},
     "output_type": "execute_result"
    }
   ],
   "source": [
    "os.getcwd()"
   ]
  },
  {
   "cell_type": "code",
   "execution_count": 51,
   "metadata": {},
   "outputs": [],
   "source": [
    "files = glob.glob(\"*.html\")\n"
   ]
  },
  {
   "cell_type": "code",
   "execution_count": 52,
   "metadata": {},
   "outputs": [
    {
     "data": {
      "text/plain": [
       "['201809-1219-005.html',\n",
       " '201803-1218-001.html',\n",
       " '201902-1218-001.html',\n",
       " '201706-1219-004.html',\n",
       " '201803-1225-001.html',\n",
       " '201709-1218-004.html',\n",
       " '201802-1218-005.html',\n",
       " '201611-1240-005.html',\n",
       " '201611-1240-004.html',\n",
       " '201809-1218-023.html',\n",
       " '201707-1218-005.html',\n",
       " '201809-1218-001.html',\n",
       " '201911-1205-003.html',\n",
       " '201906-1210-003.html',\n",
       " '201902-1225-001CF.html',\n",
       " '201811-1218-002.html',\n",
       " '202003-1205-004.html',\n",
       " '201809-1219-003.html',\n",
       " '201807-1205-001.html',\n",
       " '202004-1205-001.html',\n",
       " '202006-1220-005.html',\n",
       " '202003-1240-003.html',\n",
       " '201901-1210-005.html',\n",
       " '201805-1290-002.html',\n",
       " '201707-1218-002.html',\n",
       " '202002-1210-004.html',\n",
       " '202004-1245-001.html',\n",
       " '201805-1210-004.html',\n",
       " '201903-1218-004.html',\n",
       " '201611-1240-002.html',\n",
       " '201808-1205-003.html',\n",
       " '202004-1220-004.html',\n",
       " '202002-1205-002.html',\n",
       " '201910-1218-003.html',\n",
       " '201912-1218-009.html',\n",
       " '201804-1290-001.html',\n",
       " '201812-1220-002.html',\n",
       " '201909-1205-006.html',\n",
       " '201612-1235-001.html',\n",
       " '201907-1205-002.html',\n",
       " '201910-1219-003.html',\n",
       " '201901-1210-003.html',\n",
       " '201901-1219-002.html',\n",
       " '201902-1210-003.html',\n",
       " '202002-1210-001.html',\n",
       " '201809-1218-022.html',\n",
       " '201709-1218-002.html',\n",
       " '201911-1240-005.html',\n",
       " '201906-1210-001.html',\n",
       " '201904-1219-006.html',\n",
       " '202002-1218-007.html',\n",
       " '201912-1205-010.html',\n",
       " '201707-1218-003.html',\n",
       " '201801-1210-002.html',\n",
       " '201911-1205-002.html',\n",
       " '201912-1218-008.html',\n",
       " '201909-1219-002.html',\n",
       " '201702-1218-003.html',\n",
       " '201909-1205-003.html',\n",
       " '201907-1290-001.html',\n",
       " '201909-1235-001.html',\n",
       " '201909-1290-001.html',\n",
       " '201801-1290-002.html',\n",
       " '201805-1210-003.html',\n",
       " '202003-1210-001.html',\n",
       " '201805-1218-002.html',\n",
       " '202003-1205-005.html',\n",
       " '202002-1240-012.html',\n",
       " '201708-1220-004.html',\n",
       " '201812-1205-002.html',\n",
       " '201908-1210-006.html',\n",
       " '201904-1210-002.html',\n",
       " '201903-1218-005.html',\n",
       " '201809-1219-001.html',\n",
       " '201912-1225-001CF.html',\n",
       " '201803-1210-001.html',\n",
       " '201707-1219-003.html',\n",
       " '201901-1210-001.html',\n",
       " '201901-1219-005.html',\n",
       " '201812-1240-003.html',\n",
       " '201801-1290-001.html',\n",
       " '201809-1218-019.html',\n",
       " '202003-1210-005.html',\n",
       " '201506-1218-003.html',\n",
       " '201907-1235-001.html',\n",
       " '201708-1205-003.html',\n",
       " '201706-1210-003.html',\n",
       " '201711-1218-002.html',\n",
       " '201909-1218-001.html',\n",
       " '201904-1218-002.html',\n",
       " '201811-1218-003.html',\n",
       " '201809-1218-002.html',\n",
       " '201802-1218-004.html',\n",
       " '201810-1218-004.html',\n",
       " '201708-1220-001.html',\n",
       " '201810-1218-002.html',\n",
       " '201903-1205-002.html',\n",
       " '201809-1218-003.html',\n",
       " '201803-1205-001.html',\n",
       " '202003-1240-004.html',\n",
       " '202001-1205-002.html',\n",
       " '202005-1235-001.html',\n",
       " '201902-1210-002.html',\n",
       " '201609-1240-001.html',\n",
       " '201712-1220-003.html',\n",
       " '201710-1218-004.html',\n",
       " '201810-1205-003.html',\n",
       " '201912-1218-007.html',\n",
       " '201812-1290-001.html',\n",
       " '201908-1218-003.html',\n",
       " '201905-1290-001.html',\n",
       " '201706-1205-001.html',\n",
       " '201909-1205-001.html',\n",
       " '201805-1218-001.html',\n",
       " '201912-1245-001.html',\n",
       " '201812-1293-001.html',\n",
       " '201901-1240-003.html',\n",
       " '201903-1218-003.html',\n",
       " '201703-1240-001.html',\n",
       " '201911-1218-002.html',\n",
       " '201908-1240-001.html',\n",
       " '201802-1205-004.html',\n",
       " '201904-1210-003.html',\n",
       " '201907-1205-005.html',\n",
       " '201810-1210-004.html',\n",
       " '202003-1220-002.html',\n",
       " '201611-1218-003.html',\n",
       " '201806-1205-002.html',\n",
       " '201710-1218-001.html',\n",
       " '201906-1210-008.html',\n",
       " '201702-1218-005.html',\n",
       " '201909-1205-004.html',\n",
       " '201708-1218-003.html',\n",
       " '202002-1240-007.html',\n",
       " '201710-1290-001.html',\n",
       " '201707-1210-001.html',\n",
       " '201907-1205-008.html',\n",
       " '201903-1240-004.html',\n",
       " '201902-1225-002CF.html',\n",
       " '201902-1225-003CF.html',\n",
       " '201706-1218-005.html',\n",
       " '202004-1205-002.html',\n",
       " '201906-1250-001.html',\n",
       " '201905-1210-001.html',\n",
       " '202002-1205-004.html',\n",
       " '201902-1220-001.html',\n",
       " '201805-1218-004.html',\n",
       " '201904-1250-002.html',\n",
       " '201810-1210-003.html',\n",
       " '201901-1205-002.html',\n",
       " '201904-1210-004.html',\n",
       " '201601-1225-004.html',\n",
       " '202001-1205-001.html',\n",
       " '201910-1240-002.html',\n",
       " '201901-1219-006.html',\n",
       " '201803-1240-002.html',\n",
       " '201801-1218-002.html',\n",
       " '201809-1218-025.html',\n",
       " '201809-1219-004.html',\n",
       " '201901-1240-008.html',\n",
       " '201905-1205-008.html',\n",
       " '202006-1220-001.html',\n",
       " '201907-1235-002.html',\n",
       " '202001-1290-002.html',\n",
       " '201801-1210-001.html',\n",
       " '201907-1220-001.html',\n",
       " '201806-1220-003.html',\n",
       " '201608-1219-002.html',\n",
       " '202004-1240-002.html',\n",
       " '202004-1220-005.html',\n",
       " '201607-1240-001.html',\n",
       " '201803-1210-002.html',\n",
       " '201907-1205-006.html',\n",
       " '201909-1205-005.html',\n",
       " '201706-1218-006.html',\n",
       " '201704-1218-003.html',\n",
       " '201805-1210-001.html',\n",
       " '202002-1210-003.html',\n",
       " '201911-1240-002.html',\n",
       " '202001-1205-005.html',\n",
       " '201903-1220-001.html',\n",
       " '201807-1218-003.html',\n",
       " '201707-1219-001.html',\n",
       " '202003-1205-003.html',\n",
       " '201711-1218-003.html',\n",
       " '201711-1220-003.html',\n",
       " '201711-1218-001.html',\n",
       " '201807-1210-001.html',\n",
       " '201711-1210-001.html',\n",
       " '201910-1235-001.html',\n",
       " '202005-1235-002.html',\n",
       " '201910-1219-001.html',\n",
       " '201712-1240-003.html',\n",
       " '201406-1219-003.html',\n",
       " '201709-1240-001.html',\n",
       " '202002-1210-005.html',\n",
       " '201809-1218-007.html',\n",
       " '202004-1220-008.html',\n",
       " '201910-1240-001.html',\n",
       " '201901-1245-001.html',\n",
       " '201711-1219-001.html',\n",
       " '201912-1218-011.html',\n",
       " '201902-1210-006.html',\n",
       " '201901-1219-003.html',\n",
       " '201807-1240-001.html',\n",
       " '201909-1218-002.html',\n",
       " '201911-1290-001.html',\n",
       " '201806-1218-003.html',\n",
       " '201912-1205-005.html',\n",
       " '202005-1220-001.html',\n",
       " '201707-1235-001.html',\n",
       " '201903-1290-002.html',\n",
       " '202002-1205-006.html',\n",
       " '201705-1225-015CF.html',\n",
       " '201706-1205-004.html',\n",
       " '201910-1219-005.html',\n",
       " '201705-1219-003.html',\n",
       " '201807-1205-004.html',\n",
       " '201909-1210-005.html',\n",
       " '201801-1205-002.html',\n",
       " '201905-1205-003.html',\n",
       " '201912-1205-001.html',\n",
       " '201809-1218-016.html',\n",
       " '201707-1218-004.html',\n",
       " '201912-1205-003.html',\n",
       " '201809-1218-017.html',\n",
       " '201803-1219-001.html',\n",
       " '201701-1235-001.html',\n",
       " '201701-1235-003.html',\n",
       " '201802-1218-001.html',\n",
       " '201805-1210-002.html',\n",
       " '201909-1219-001.html',\n",
       " '201908-1218-001.html',\n",
       " '201705-1220-001.html',\n",
       " '201908-1210-003.html',\n",
       " '202003-1240-005.html',\n",
       " '201804-1218-004.html',\n",
       " '201903-1290-003.html',\n",
       " '201906-1210-002.html',\n",
       " '201809-1210-003.html',\n",
       " '201901-1210-004.html',\n",
       " '201612-1218-002.html',\n",
       " '201707-1218-006.html',\n",
       " '201804-1218-002.html',\n",
       " '202001-1218-001.html',\n",
       " '201706-1210-002.html',\n",
       " '201809-1250-004.html',\n",
       " '201706-1220-003.html',\n",
       " '201912-1210-002.html',\n",
       " '201709-1225-001.html',\n",
       " '202001-1205-004.html',\n",
       " '201802-1290-003.html',\n",
       " '201710-1219-001.html',\n",
       " '201802-1205-001.html',\n",
       " '201611-1219-003.html',\n",
       " '201707-1219-002.html',\n",
       " '201703-1220-001.html',\n",
       " '201907-1205-003.html',\n",
       " '201904-1240-001.html',\n",
       " '201902-1240-001.html',\n",
       " '201908-1210-004.html',\n",
       " '201911-1205-004.html',\n",
       " '201802-1290-001.html',\n",
       " '201805-1290-001.html',\n",
       " '201712-1220-002.html',\n",
       " '201909-1240-001.html',\n",
       " '201611-1218-009.html',\n",
       " '201911-1205-008.html',\n",
       " '201806-1218-001.html',\n",
       " '201901-1219-001.html',\n",
       " '201710-1205-003.html',\n",
       " '201806-1220-002.html',\n",
       " '201909-1210-008.html',\n",
       " '201612-1219-004.html',\n",
       " '201908-1218-002.html',\n",
       " '201611-1219-001.html',\n",
       " '201708-1219-002.html',\n",
       " '201905-1218-002.html',\n",
       " '201810-1205-001.html',\n",
       " '201612-1219-001.html',\n",
       " '201809-1210-002.html',\n",
       " '201712-1218-003.html',\n",
       " '202002-1235-001.html',\n",
       " '201906-1210-004.html',\n",
       " '201805-1240-007.html',\n",
       " '201703-1240-006.html',\n",
       " '201707-1210-002.html',\n",
       " '201904-1220-003.html',\n",
       " '201804-1218-005.html',\n",
       " '202004-1205-007.html',\n",
       " '202001-1210-001.html',\n",
       " '201709-1218-001.html',\n",
       " '201909-1250-001.html',\n",
       " '202002-1240-004.html',\n",
       " '201911-1205-005.html',\n",
       " '202006-1220-006.html',\n",
       " '202003-1205-001.html',\n",
       " '201809-1219-002.html',\n",
       " '201801-1218-004.html',\n",
       " '201709-1218-005.html',\n",
       " '201703-1240-003.html',\n",
       " '201904-1210-001.html',\n",
       " '202004-1240-004.html',\n",
       " '202002-1218-001.html',\n",
       " '201706-1218-003.html',\n",
       " '201706-1290-001.html',\n",
       " '201910-1240-003.html',\n",
       " '201905-1205-010.html',\n",
       " '201612-1219-002.html',\n",
       " '202004-1210-004.html',\n",
       " '201809-1205-001.html',\n",
       " '201905-1225-001.html',\n",
       " '201902-1220-002.html',\n",
       " '201609-1219-002.html',\n",
       " '201906-1205-003.html',\n",
       " '201801-1250-001.html',\n",
       " '202003-1205-002.html',\n",
       " '201912-1205-007.html',\n",
       " '201709-1210-001.html',\n",
       " '201902-1210-001.html',\n",
       " '201809-1218-021.html',\n",
       " '201910-1219-002.html',\n",
       " '201906-1210-010.html',\n",
       " '201702-1240-001.html',\n",
       " '202004-1220-001.html',\n",
       " '201807-1205-005.html',\n",
       " '201805-1220-004.html',\n",
       " '201907-1240-002.html',\n",
       " '201910-1250-003.html',\n",
       " '201910-1205-002.html',\n",
       " '201905-1205-011.html',\n",
       " '201710-1220-001.html',\n",
       " '202005-1290-001.html',\n",
       " '201902-1240-002.html',\n",
       " '202003-1218-002.html',\n",
       " '201810-1205-002.html',\n",
       " '202002-1240-006.html',\n",
       " '201706-1240-002.html',\n",
       " '201901-1219-008.html',\n",
       " '201912-1205-008.html',\n",
       " '201706-1218-004.html',\n",
       " '201906-1205-009.html',\n",
       " '201705-1219-004.html',\n",
       " '201808-1210-004.html',\n",
       " '201901-1219-007.html',\n",
       " '201809-1218-014.html',\n",
       " '201803-1219-002.html',\n",
       " '201905-1219-001.html',\n",
       " '201902-1210-005.html',\n",
       " '201906-1219-002.html',\n",
       " '201701-1219-001.html',\n",
       " '201811-1290-002.html',\n",
       " '201708-1210-001.html',\n",
       " '201708-1219-003.html',\n",
       " '201905-1219-002.html',\n",
       " '202005-1220-002.html',\n",
       " '201803-1240-005.html',\n",
       " '201706-1225-001.html',\n",
       " '201904-1219-004.html',\n",
       " '201708-1218-002.html',\n",
       " '201905-1205-009.html',\n",
       " '201811-1293-002.html',\n",
       " '201905-1205-006.html',\n",
       " '201903-1240-001.html',\n",
       " '201707-1218-001.html',\n",
       " '201912-1218-006.html',\n",
       " '201906-1205-004.html',\n",
       " '201810-1220-002.html',\n",
       " '201704-1218-002.html',\n",
       " '201909-1205-008.html',\n",
       " '201703-1240-002.html',\n",
       " '201706-1219-001.html',\n",
       " '202001-1218-002.html',\n",
       " '202002-1240-011.html',\n",
       " '202001-1205-006.html',\n",
       " '201803-1240-001.html',\n",
       " '201708-1240-001.html',\n",
       " '201811-1205-003.html',\n",
       " '201803-1210-003.html',\n",
       " '201909-1205-002.html',\n",
       " '201710-1205-006.html',\n",
       " '201907-1205-010.html',\n",
       " '201708-1219-001.html',\n",
       " '201702-1218-001.html',\n",
       " '201912-1225-002CF.html',\n",
       " '201906-1210-005.html',\n",
       " '201702-1219-001.html',\n",
       " '201908-1210-002.html',\n",
       " '201811-1205-002.html',\n",
       " '201903-1218-008.html',\n",
       " '201701-1240-003.html',\n",
       " '201706-1210-001.html',\n",
       " '201902-1290-001.html',\n",
       " '201903-1220-002.html',\n",
       " '201509-1205-007.html',\n",
       " '201905-1205-012.html',\n",
       " '201611-1218-007.html',\n",
       " '201710-1240-003.html',\n",
       " '201710-1293-001.html',\n",
       " '201906-1219-001.html',\n",
       " '201808-1240-001.html',\n",
       " '201809-1210-001.html',\n",
       " '201905-1205-005.html',\n",
       " '202001-1220-002.html',\n",
       " '201912-1218-012.html',\n",
       " '201708-1219-005.html',\n",
       " '201904-1218-001.html',\n",
       " '201807-1205-003.html',\n",
       " '201811-1240-002.html',\n",
       " '201906-1293-003.html',\n",
       " '201608-1218-010.html',\n",
       " '201912-1210-001.html',\n",
       " '201901-1210-002.html',\n",
       " '201706-1218-002.html',\n",
       " '201902-1205-002.html',\n",
       " '201811-1290-001.html',\n",
       " '201905-1219-004.html',\n",
       " '201705-1235-001.html',\n",
       " '201804-1218-001.html',\n",
       " '201909-1235-002.html',\n",
       " '201912-1205-009.html',\n",
       " '201708-1210-002.html',\n",
       " '201903-1240-003.html',\n",
       " '202004-1220-007.html',\n",
       " '201902-1205-001.html',\n",
       " '202001-1220-003.html',\n",
       " '201706-1220-002.html',\n",
       " '201904-1219-003.html',\n",
       " '201909-1210-007.html',\n",
       " '201710-1205-001.html',\n",
       " '202002-1240-010.html',\n",
       " '201906-1205-002.html',\n",
       " '201701-1235-002.html',\n",
       " '201811-1205-001.html',\n",
       " '201903-1218-009.html',\n",
       " '201808-1205-001.html',\n",
       " '201905-1219-003.html',\n",
       " '201904-1219-005.html',\n",
       " '201907-1205-011.html',\n",
       " '202002-1205-001.html',\n",
       " '201905-1235-002.html',\n",
       " '202002-1219-003.html',\n",
       " '201706-1219-002.html',\n",
       " '201910-1250-004.html',\n",
       " '201711-1218-004.html',\n",
       " '201911-1205-007.html',\n",
       " '201902-1205-003.html',\n",
       " '201809-1218-024.html',\n",
       " '201901-1219-004.html',\n",
       " '201906-1218-002.html',\n",
       " '201701-1210-006.html',\n",
       " '202002-1210-002.html',\n",
       " '202002-1205-005.html',\n",
       " '201906-1210-009.html',\n",
       " '201903-1218-007.html',\n",
       " '201905-1219-005.html',\n",
       " '201809-1235-001.html',\n",
       " '201907-1205-007.html',\n",
       " '201710-1218-005.html',\n",
       " '202001-1205-003.html',\n",
       " '201712-1218-001.html',\n",
       " '202003-1235-002.html',\n",
       " '201803-1240-004.html',\n",
       " '201902-1240-003.html',\n",
       " '201703-1218-001.html',\n",
       " '201801-1219-001.html',\n",
       " '201910-1250-002.html',\n",
       " '201701-1225-001.html',\n",
       " '201708-1219-004.html',\n",
       " '201611-1240-001.html',\n",
       " '201708-1210-003.html',\n",
       " '201906-1220-002.html',\n",
       " '201906-1293-001.html',\n",
       " '201902-1210-004.html']"
      ]
     },
     "execution_count": 52,
     "metadata": {},
     "output_type": "execute_result"
    }
   ],
   "source": [
    "files"
   ]
  },
  {
   "cell_type": "code",
   "execution_count": 53,
   "metadata": {},
   "outputs": [],
   "source": [
    "icr_notice_data_list = []"
   ]
  },
  {
   "cell_type": "code",
   "execution_count": 54,
   "metadata": {},
   "outputs": [
    {
     "name": "stdout",
     "output_type": "stream",
     "text": [
      "1\n",
      "2\n",
      "3\n",
      "4\n",
      "5\n",
      "6\n",
      "7\n",
      "8\n",
      "9\n",
      "10\n",
      "11\n",
      "12\n",
      "13\n",
      "14\n",
      "15\n",
      "16\n",
      "17\n",
      "18\n",
      "19\n",
      "20\n",
      "21\n",
      "22\n",
      "23\n",
      "24\n",
      "25\n",
      "26\n",
      "27\n",
      "28\n",
      "29\n",
      "30\n",
      "31\n",
      "32\n",
      "33\n",
      "34\n",
      "35\n",
      "36\n",
      "37\n",
      "38\n",
      "39\n",
      "40\n",
      "41\n",
      "42\n",
      "43\n",
      "44\n",
      "45\n",
      "46\n",
      "47\n",
      "48\n",
      "49\n",
      "50\n",
      "51\n",
      "52\n",
      "53\n",
      "54\n",
      "55\n",
      "56\n",
      "57\n",
      "58\n",
      "59\n",
      "60\n",
      "61\n",
      "62\n",
      "63\n",
      "64\n",
      "65\n",
      "66\n",
      "67\n",
      "68\n",
      "69\n",
      "70\n",
      "71\n",
      "72\n",
      "73\n",
      "74\n",
      "75\n",
      "76\n",
      "77\n",
      "78\n",
      "79\n",
      "80\n",
      "81\n",
      "82\n",
      "83\n",
      "84\n",
      "85\n",
      "86\n",
      "87\n",
      "88\n",
      "89\n",
      "90\n",
      "91\n",
      "92\n",
      "93\n",
      "94\n",
      "95\n",
      "96\n",
      "97\n",
      "98\n",
      "99\n",
      "100\n",
      "101\n",
      "102\n",
      "103\n",
      "104\n",
      "105\n",
      "106\n",
      "107\n",
      "108\n",
      "109\n",
      "110\n",
      "111\n",
      "112\n",
      "113\n",
      "114\n",
      "115\n",
      "116\n",
      "117\n",
      "118\n",
      "119\n",
      "120\n",
      "121\n",
      "122\n",
      "123\n",
      "124\n",
      "125\n",
      "126\n",
      "127\n",
      "128\n",
      "129\n",
      "130\n",
      "131\n",
      "132\n",
      "133\n",
      "134\n",
      "135\n",
      "136\n",
      "137\n",
      "138\n",
      "139\n",
      "140\n",
      "141\n",
      "142\n",
      "143\n",
      "144\n",
      "145\n",
      "146\n",
      "147\n",
      "148\n",
      "149\n",
      "150\n",
      "151\n",
      "152\n",
      "153\n",
      "154\n",
      "155\n",
      "156\n",
      "157\n",
      "158\n",
      "159\n",
      "160\n",
      "161\n",
      "162\n",
      "163\n",
      "164\n",
      "165\n",
      "166\n",
      "167\n",
      "168\n",
      "169\n",
      "170\n",
      "171\n",
      "172\n",
      "173\n",
      "174\n",
      "175\n",
      "176\n",
      "177\n",
      "178\n",
      "179\n",
      "180\n",
      "181\n",
      "182\n",
      "183\n",
      "184\n",
      "185\n",
      "186\n",
      "187\n",
      "188\n",
      "189\n",
      "190\n",
      "191\n",
      "192\n",
      "193\n",
      "194\n",
      "195\n",
      "196\n",
      "197\n",
      "198\n",
      "199\n",
      "200\n",
      "201\n",
      "202\n",
      "203\n",
      "204\n",
      "205\n",
      "206\n",
      "207\n",
      "208\n",
      "209\n",
      "210\n",
      "211\n",
      "212\n",
      "213\n",
      "214\n",
      "215\n",
      "216\n",
      "217\n",
      "218\n",
      "219\n",
      "220\n",
      "221\n",
      "222\n",
      "223\n",
      "224\n",
      "225\n",
      "226\n",
      "227\n",
      "228\n",
      "229\n",
      "230\n",
      "231\n",
      "232\n",
      "233\n",
      "234\n",
      "235\n",
      "236\n",
      "237\n",
      "238\n",
      "239\n",
      "240\n",
      "241\n",
      "242\n",
      "243\n",
      "244\n",
      "245\n",
      "246\n",
      "247\n",
      "248\n",
      "249\n",
      "250\n",
      "251\n",
      "252\n",
      "253\n",
      "254\n",
      "255\n",
      "256\n",
      "257\n",
      "258\n",
      "259\n",
      "260\n",
      "261\n",
      "262\n",
      "263\n",
      "264\n",
      "265\n",
      "266\n",
      "267\n",
      "268\n",
      "269\n",
      "270\n",
      "271\n",
      "272\n",
      "273\n",
      "274\n",
      "275\n",
      "276\n",
      "277\n",
      "278\n",
      "279\n",
      "280\n",
      "281\n",
      "282\n",
      "283\n",
      "284\n",
      "285\n",
      "286\n",
      "287\n",
      "288\n",
      "289\n",
      "290\n",
      "291\n",
      "292\n",
      "293\n",
      "294\n",
      "295\n",
      "296\n",
      "297\n",
      "298\n",
      "299\n",
      "300\n",
      "301\n",
      "302\n",
      "303\n",
      "304\n",
      "305\n",
      "306\n",
      "307\n",
      "308\n",
      "309\n",
      "310\n",
      "311\n",
      "312\n",
      "313\n",
      "314\n",
      "315\n",
      "316\n",
      "317\n",
      "318\n",
      "319\n",
      "320\n",
      "321\n",
      "322\n",
      "323\n",
      "324\n",
      "325\n",
      "326\n",
      "327\n",
      "328\n",
      "329\n",
      "330\n",
      "331\n",
      "332\n",
      "333\n",
      "334\n",
      "335\n",
      "336\n",
      "337\n",
      "338\n",
      "339\n",
      "340\n",
      "341\n",
      "342\n",
      "343\n",
      "344\n",
      "345\n",
      "346\n",
      "347\n",
      "348\n",
      "349\n",
      "350\n",
      "351\n",
      "352\n",
      "353\n",
      "354\n",
      "355\n",
      "356\n",
      "357\n",
      "358\n",
      "359\n",
      "360\n",
      "361\n",
      "362\n",
      "363\n",
      "364\n",
      "365\n",
      "366\n",
      "367\n",
      "368\n",
      "369\n",
      "370\n",
      "371\n",
      "372\n",
      "373\n",
      "374\n",
      "375\n",
      "376\n",
      "377\n",
      "378\n",
      "379\n",
      "380\n",
      "381\n",
      "382\n",
      "383\n",
      "384\n",
      "385\n",
      "386\n",
      "387\n",
      "388\n",
      "389\n",
      "390\n",
      "391\n",
      "392\n",
      "393\n",
      "394\n",
      "395\n",
      "396\n",
      "397\n",
      "398\n",
      "399\n",
      "400\n",
      "401\n",
      "402\n",
      "403\n",
      "404\n",
      "405\n",
      "406\n",
      "407\n",
      "408\n",
      "409\n",
      "410\n",
      "411\n",
      "412\n",
      "413\n",
      "414\n",
      "415\n",
      "416\n",
      "417\n",
      "418\n",
      "419\n",
      "420\n",
      "421\n",
      "422\n",
      "423\n",
      "424\n",
      "425\n",
      "426\n",
      "427\n",
      "428\n",
      "429\n",
      "430\n",
      "431\n",
      "432\n",
      "433\n",
      "434\n",
      "435\n",
      "436\n",
      "437\n",
      "438\n",
      "439\n",
      "440\n",
      "441\n",
      "442\n",
      "443\n",
      "444\n",
      "445\n",
      "446\n",
      "447\n",
      "448\n",
      "449\n",
      "450\n",
      "451\n",
      "452\n",
      "453\n",
      "454\n",
      "455\n",
      "456\n",
      "457\n",
      "458\n",
      "459\n",
      "460\n",
      "461\n",
      "462\n",
      "463\n",
      "464\n",
      "465\n",
      "466\n",
      "467\n",
      "468\n",
      "469\n",
      "470\n",
      "471\n",
      "472\n",
      "473\n",
      "474\n"
     ]
    }
   ],
   "source": [
    "for file in files:\n",
    "    try:\n",
    "        icr_notice_data_list.append(icr_page_info_extractor(file))\n",
    "    except:\n",
    "        icr_notice_data_list.append(['x','x','x','x','x'])\n",
    "    print(len(icr_notice_data_list))"
   ]
  },
  {
   "cell_type": "code",
   "execution_count": 55,
   "metadata": {},
   "outputs": [
    {
     "data": {
      "text/plain": [
       "'201811-1218-002.html'"
      ]
     },
     "execution_count": 55,
     "metadata": {},
     "output_type": "execute_result"
    }
   ],
   "source": [
    "files[15]"
   ]
  },
  {
   "cell_type": "code",
   "execution_count": 56,
   "metadata": {},
   "outputs": [
    {
     "data": {
      "text/plain": [
       "5"
      ]
     },
     "execution_count": 56,
     "metadata": {},
     "output_type": "execute_result"
    }
   ],
   "source": [
    "len(icr_notice_data_list[14])"
   ]
  },
  {
   "cell_type": "code",
   "execution_count": 57,
   "metadata": {},
   "outputs": [
    {
     "data": {
      "text/plain": [
       "['1218-0096',\n",
       " '201811-1218-002',\n",
       " '03/01/2019',\n",
       " '201507-1218-002',\n",
       " '83 FR 47190',\n",
       " '09/18/2018']"
      ]
     },
     "execution_count": 57,
     "metadata": {},
     "output_type": "execute_result"
    }
   ],
   "source": [
    "icr_notice_data_list[15]"
   ]
  },
  {
   "cell_type": "code",
   "execution_count": 66,
   "metadata": {},
   "outputs": [
    {
     "data": {
      "text/plain": [
       "'/home/jupyter-ed/projects/pra/scripts/EDA/html'"
      ]
     },
     "execution_count": 66,
     "metadata": {},
     "output_type": "execute_result"
    }
   ],
   "source": [
    "os.getcwd()"
   ]
  },
  {
   "cell_type": "code",
   "execution_count": 67,
   "metadata": {},
   "outputs": [],
   "source": [
    "os.chdir('/home/jupyter-ed/projects/pra/data/01_database')"
   ]
  },
  {
   "cell_type": "code",
   "execution_count": 68,
   "metadata": {},
   "outputs": [],
   "source": [
    "DBPATH = 'pradb.db'\n",
    "conn = sqlite3.connect(DBPATH)\n",
    "cursor = conn.cursor()"
   ]
  },
  {
   "cell_type": "code",
   "execution_count": 69,
   "metadata": {},
   "outputs": [],
   "source": [
    "icr_notice_data_df = pd.DataFrame(icr_notice_data_list)"
   ]
  },
  {
   "cell_type": "code",
   "execution_count": 70,
   "metadata": {},
   "outputs": [],
   "source": [
    "icr_notice_data_df.columns = ['omb_control_number',\n",
    "                              'icr_reference_control_number',\n",
    "                              'submission_date',\n",
    "                              'prev_icr',\n",
    "                              'citation',\n",
    "                              'publication_date']"
   ]
  },
  {
   "cell_type": "code",
   "execution_count": 71,
   "metadata": {},
   "outputs": [],
   "source": [
    "icr_notice_data_df.to_sql('icr_reginfo_data',con=conn,if_exists='replace')"
   ]
  },
  {
   "cell_type": "code",
   "execution_count": null,
   "metadata": {},
   "outputs": [],
   "source": []
  },
  {
   "cell_type": "code",
   "execution_count": null,
   "metadata": {},
   "outputs": [],
   "source": []
  },
  {
   "cell_type": "code",
   "execution_count": null,
   "metadata": {},
   "outputs": [],
   "source": []
  },
  {
   "cell_type": "code",
   "execution_count": null,
   "metadata": {},
   "outputs": [],
   "source": []
  },
  {
   "cell_type": "code",
   "execution_count": null,
   "metadata": {},
   "outputs": [],
   "source": []
  },
  {
   "cell_type": "code",
   "execution_count": null,
   "metadata": {},
   "outputs": [],
   "source": []
  },
  {
   "cell_type": "code",
   "execution_count": null,
   "metadata": {},
   "outputs": [],
   "source": []
  },
  {
   "cell_type": "code",
   "execution_count": null,
   "metadata": {},
   "outputs": [],
   "source": []
  },
  {
   "cell_type": "code",
   "execution_count": null,
   "metadata": {},
   "outputs": [],
   "source": []
  },
  {
   "cell_type": "code",
   "execution_count": null,
   "metadata": {},
   "outputs": [],
   "source": []
  },
  {
   "cell_type": "code",
   "execution_count": null,
   "metadata": {},
   "outputs": [],
   "source": []
  },
  {
   "cell_type": "code",
   "execution_count": null,
   "metadata": {},
   "outputs": [],
   "source": []
  },
  {
   "cell_type": "code",
   "execution_count": null,
   "metadata": {},
   "outputs": [],
   "source": []
  },
  {
   "cell_type": "code",
   "execution_count": null,
   "metadata": {},
   "outputs": [],
   "source": [
    "notice_dataframe.to_sql('notices',con=conn,if_exists='replace')"
   ]
  },
  {
   "cell_type": "code",
   "execution_count": null,
   "metadata": {},
   "outputs": [],
   "source": [
    "\n",
    "\n",
    "#https://www.reginfo.gov/public/do/PRAViewICR?ref_nbr=\n",
    "# here are all the functions to get the info\n",
    "\n",
    "\n",
    "# create the reginfo link from the omb control number\n",
    "def link_slug_add(link):\n",
    "  pagelink = 'https://www.reginfo.gov/public/do/PRAViewICR?ref_nbr='+str.strip(link)\n",
    "  return(pagelink)\n",
    "\n",
    "\n",
    "# test the link \n",
    "def link_checker(link):\n",
    "  if type(link)==str:\n",
    "    if len(link) > 50:\n",
    "      return(link)\n",
    "    else:\n",
    "      print('bad link')\n",
    "\n",
    "\n",
    "# get the html webpage from the link\n",
    "# use the tr td to filter for the info\n",
    "\n",
    "def get_page(link):\n",
    "  page = requests.get(link).content\n",
    "  sel = Selector(text = page)\n",
    "  trpath = '//tr//td//text()'\n",
    "  table =sel.xpath(trpath).extract()\n",
    "  return(table)\n",
    "\n",
    "\n",
    "# use the output from the function above to get the \n",
    "# information about the icr\n",
    "\n",
    "def omb_info_builder(page,link):\n",
    "  for number in range(0,len(page)):\n",
    "     webpage_string =str.strip(page[number])\n",
    "     if webpage_string ==\"OMB Control No:\":\n",
    "       omb_info = {}\n",
    "       omb_info['link'] = link\n",
    "       omb_info['OMB Control No']= str.strip(page[number+1])\n",
    "       omb_info['ICR Reference No']= str.strip(page[number+5])\n",
    "       omb_info['Status']= str.strip(page[number+11])\n",
    "       omb_info['Previous ICR Reference No']= str.strip(page[number+16])\n",
    "       omb_info['Agency/Subagency']= str.strip(page[number+23])\n",
    "       omb_info['Title']= str.strip(page[number+33])\n",
    "       omb_info['Type of Information Collection']= str.strip(page[number+39])\n",
    "       omb_info['Common Form ICR']= str.strip(page[number+43])\n",
    "       omb_info['Type of Review Request']= str.strip(page[number+49])\n",
    "       omb_info['OIRA Conclusion Action']= str.strip(page[number+57])\n",
    "       omb_info['Conclusion Date']= str.strip(page[number+61])\n",
    "       omb_info['Date Received in OIRA']= str.strip(page[number+71])\n",
    "       omb_info['check_if_new'] = str.strip(page[336])\n",
    "       return(omb_info)\n",
    "\n",
    "# uses the same html to find the frn dates and citations\n",
    "\n",
    "def frn_date_builder(page):\n",
    "  for number in range(0,len(page)):\n",
    "     webpage_string =str.strip(page[number])\n",
    "     if webpage_string ==\"Federal Register Notices & Comments\":\n",
    "       frn_info = {\"link\":link,\n",
    "       \"60-day_date\": str.strip(page[number+25]),\n",
    "       \"30_day_date\": str.strip(page[number+49]),\n",
    "       \"60_day_citation\":str.strip(page[number+22]),\n",
    "       \"30_day_citation\": str.strip(page[number+46])}\n",
    "       return(frn_info)\n",
    "\n",
    "\n",
    "# uses the same html to find the expiration date of the icr \n",
    "\n",
    "def expiration_date_scrape(page,link):\n",
    "  for number in range(0,len(page)):\n",
    "    webpage_string =str.strip(page[number])\n",
    "    if webpage_string ==\"Expiration Date\":\n",
    "      exp_info = {\"link\":link,\"expiration_date \":str(page[number+2]),\"prev_expiration_date \":str(page[number+6])}\n",
    "      return(exp_info)\n",
    "\n",
    "\n",
    "# read in the list of active icr omb control numbers\n",
    "\n",
    "os.chdir('/home/ed/projects/pra/improve/data')\n",
    "\n",
    "cntrl_numbers = 'omb_cntr_numbers_inventory_2020_07_14.csv'\n",
    "\n",
    "with open(cntrl_numbers, 'r') as read_obj:\n",
    "    # pass the file object to reader() to get the reader object\n",
    "    csv_reader = reader(read_obj)\n",
    "    # Pass reader object to list() to get a list of lists\n",
    "    list_of_rows = list(csv_reader)\n",
    "\n",
    "del list_of_rows[0]\n",
    "\n",
    "all_links = []\n",
    "\n",
    "# create the reginfo.gov links from the omb control numbers\n",
    "\n",
    "for row in list_of_rows:\n",
    "  if len(row) > 0 :\n",
    "    link = link_slug_add(row[0])\n",
    "    all_links.append(link)\n",
    "  \n",
    "\n",
    "       \n",
    "good_links = [ ]\n",
    "\n",
    "\n",
    "# test the links\n",
    "\n",
    "for link in all_links:\n",
    "  checked_link =link_checker(link)\n",
    "  test1 = checked_link != 'bad link'\n",
    "  test2 = type(checked_link)==str\n",
    "  if (test1==True and test2==True):\n",
    "    good_links.append(checked_link)\n",
    "    \n",
    "\n",
    "# create a place to save the icr info from each function\n",
    "\n",
    "frn_list = []\n",
    "omb_info = []\n",
    "expirations = []\n",
    "\n",
    "\n",
    "  \n",
    "# get the page, then get the info, save the info to the lists \n",
    "# from above\n",
    "\n",
    "for link in good_links:\n",
    "  page = get_page(link)\n",
    "  frn_data = frn_date_builder(page)\n",
    "  omb_data = omb_info_builder(page,link)\n",
    "  exp = expiration_date_scrape(page,link)\n",
    "  frn_list.append(frn_data)\n",
    "  omb_info.append(omb_data)\n",
    "  expirations.append(exp)\n",
    "  print(link)\n",
    "  \n",
    "  \n",
    "  \n",
    "\n",
    "frn_csv_columns = list(frn_list[1].keys())\n",
    "now = datetime.now()\n",
    "t_string = now.strftime(\"%Y%H%M%S\")\n",
    "csv_file = t_string+\"_frn.csv\"\n",
    "\n",
    "try:\n",
    "    with open(csv_file, 'w') as csvfile:\n",
    "        writer = csv.DictWriter(csvfile, fieldnames=frn_csv_columns)\n",
    "        writer.writeheader()\n",
    "        for data in frn_list:\n",
    "            writer.writerow(data)\n",
    "except IOError:\n",
    "    print(\"I/O error\")\n",
    "\n",
    "\n",
    "\n",
    "omb_csv_columns = list(omb_info[1].keys())\n",
    "now = datetime.now()\n",
    "t_string = now.strftime(\"%Y%H%M%S\")\n",
    "\n",
    "csv_file = t_string+\"_omb.csv\"\n",
    "\n",
    "try:\n",
    "    with open(csv_file, 'w') as csvfile:\n",
    "        writer = csv.DictWriter(csvfile, fieldnames=omb_csv_columns)\n",
    "        writer.writeheader()\n",
    "        for data in omb_info:\n",
    "            writer.writerow(data)\n",
    "except IOError:\n",
    "    print(\"I/O error\")  \n",
    "  \n",
    "  \n",
    "exp_csv_columns = list(expirations[1].keys())\n",
    "now = datetime.now()\n",
    "t_string = now.strftime(\"%Y%-%m-%d-%H-%S\")\n",
    "\n",
    "csv_file = t_string+\"_exp.csv\"\n",
    "\n",
    "try:\n",
    "    with open(csv_file, 'w') as csvfile:\n",
    "        writer = csv.DictWriter(csvfile, fieldnames=exp_csv_columns)\n",
    "        writer.writeheader()\n",
    "        for data in expirations:\n",
    "            writer.writerow(data)\n",
    "except IOError:\n",
    "    print(\"I/O error\") "
   ]
  }
 ],
 "metadata": {
  "kernelspec": {
   "display_name": "Python 3",
   "language": "python",
   "name": "python3"
  },
  "language_info": {
   "codemirror_mode": {
    "name": "ipython",
    "version": 3
   },
   "file_extension": ".py",
   "mimetype": "text/x-python",
   "name": "python",
   "nbconvert_exporter": "python",
   "pygments_lexer": "ipython3",
   "version": "3.7.6"
  }
 },
 "nbformat": 4,
 "nbformat_minor": 4
}
